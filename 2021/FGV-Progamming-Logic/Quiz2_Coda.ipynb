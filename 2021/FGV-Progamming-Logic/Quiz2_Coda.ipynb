{
  "nbformat": 4,
  "nbformat_minor": 0,
  "metadata": {
    "colab": {
      "name": "Quiz2-Coda",
      "provenance": [],
      "collapsed_sections": [],
      "include_colab_link": true
    },
    "kernelspec": {
      "name": "python3",
      "display_name": "Python 3"
    },
    "language_info": {
      "name": "python"
    }
  },
  "cells": [
    {
      "cell_type": "markdown",
      "metadata": {
        "id": "view-in-github",
        "colab_type": "text"
      },
      "source": [
        "<a href=\"https://colab.research.google.com/github/Muramatsu2602/python-bootcamp/blob/main/Quiz2_Coda.ipynb\" target=\"_parent\"><img src=\"https://colab.research.google.com/assets/colab-badge.svg\" alt=\"Open In Colab\"/></a>"
      ]
    },
    {
      "cell_type": "code",
      "metadata": {
        "colab": {
          "base_uri": "https://localhost:8080/",
          "height": 35
        },
        "id": "7LStfhsUBgnY",
        "outputId": "d96b948b-6ff4-4cfd-c1c7-8789aa094c2b"
      },
      "source": [
        "txt = \"PETR3.SA\"\n",
        "x = txt.replace(\"3\", \"4\", 1)\n",
        "x"
      ],
      "execution_count": null,
      "outputs": [
        {
          "output_type": "execute_result",
          "data": {
            "application/vnd.google.colaboratory.intrinsic+json": {
              "type": "string"
            },
            "text/plain": [
              "'PETR4.SA'"
            ]
          },
          "metadata": {},
          "execution_count": 4
        }
      ]
    },
    {
      "cell_type": "code",
      "metadata": {
        "id": "kdmSQJaRBzUR"
      },
      "source": [
        "rent_anual_perc = 20.9\n",
        "txt=\"A sua carteira obteve umar entabilidade anual de \"\n",
        "txt\n",
        "\n",
        "print(txt + str(rent_anual_perc) + \"%\")"
      ],
      "execution_count": null,
      "outputs": []
    },
    {
      "cell_type": "code",
      "metadata": {
        "colab": {
          "base_uri": "https://localhost:8080/",
          "height": 35
        },
        "id": "_UTBwtO1Dkjm",
        "outputId": "5af1f14b-2920-49c1-cf84-75b0b124c69a"
      },
      "source": [
        "txt = \"PETR3.SA\"\n",
        "x = txt[1:4]\n",
        "\n",
        "x"
      ],
      "execution_count": null,
      "outputs": [
        {
          "output_type": "execute_result",
          "data": {
            "application/vnd.google.colaboratory.intrinsic+json": {
              "type": "string"
            },
            "text/plain": [
              "'ETR'"
            ]
          },
          "metadata": {},
          "execution_count": 10
        }
      ]
    },
    {
      "cell_type": "code",
      "metadata": {
        "colab": {
          "base_uri": "https://localhost:8080/",
          "height": 35
        },
        "id": "GHiyZ0-ZEZ3w",
        "outputId": "9ecabd73-2a5f-4480-bbd6-ad9db5c7440f"
      },
      "source": [
        "txt = \"   PETR3.SA   \"\n",
        "x = txt.strip()\n",
        "\n",
        "x"
      ],
      "execution_count": null,
      "outputs": [
        {
          "output_type": "execute_result",
          "data": {
            "application/vnd.google.colaboratory.intrinsic+json": {
              "type": "string"
            },
            "text/plain": [
              "'PETR3.SA'"
            ]
          },
          "metadata": {},
          "execution_count": 13
        }
      ]
    },
    {
      "cell_type": "code",
      "metadata": {
        "colab": {
          "base_uri": "https://localhost:8080/",
          "height": 35
        },
        "id": "kxRGIEqsE2ME",
        "outputId": "387f66a8-8fd3-46a3-dcad-80c68b81372e"
      },
      "source": [
        "txt = \"petroleo brasileiro sa\"\n",
        "x = txt.upper()\n",
        "\n",
        "x"
      ],
      "execution_count": null,
      "outputs": [
        {
          "output_type": "execute_result",
          "data": {
            "application/vnd.google.colaboratory.intrinsic+json": {
              "type": "string"
            },
            "text/plain": [
              "'PETROLEO BRASILEIRO SA'"
            ]
          },
          "metadata": {},
          "execution_count": 14
        }
      ]
    },
    {
      "cell_type": "code",
      "metadata": {
        "colab": {
          "base_uri": "https://localhost:8080/"
        },
        "id": "BOTJM4b4E-Q5",
        "outputId": "96a03d46-4416-4e74-e566-5aa739ed3d02"
      },
      "source": [
        "x = \"PETR3.SA\"\n",
        "print(len(x))"
      ],
      "execution_count": null,
      "outputs": [
        {
          "output_type": "stream",
          "name": "stdout",
          "text": [
            "8\n"
          ]
        }
      ]
    },
    {
      "cell_type": "code",
      "metadata": {
        "colab": {
          "base_uri": "https://localhost:8080/"
        },
        "id": "fom6tzccFSG5",
        "outputId": "6c4fcf5d-a106-4059-9552-27c3e829c177"
      },
      "source": [
        "print(6**2)"
      ],
      "execution_count": null,
      "outputs": [
        {
          "output_type": "stream",
          "name": "stdout",
          "text": [
            "36\n"
          ]
        }
      ]
    },
    {
      "cell_type": "code",
      "metadata": {
        "colab": {
          "base_uri": "https://localhost:8080/"
        },
        "id": "XlnUXhTIFgzL",
        "outputId": "e0cf526a-f389-493b-bc30-47e772889be1"
      },
      "source": [
        "print(10%4)"
      ],
      "execution_count": null,
      "outputs": [
        {
          "output_type": "stream",
          "name": "stdout",
          "text": [
            "2\n"
          ]
        }
      ]
    },
    {
      "cell_type": "code",
      "metadata": {
        "colab": {
          "base_uri": "https://localhost:8080/"
        },
        "id": "pj6DhDsAF1bL",
        "outputId": "e7549166-5663-4c47-a5f6-f478f00107cb"
      },
      "source": [
        "if 5 != 10:\n",
        "    print(\"cu\")"
      ],
      "execution_count": null,
      "outputs": [
        {
          "output_type": "stream",
          "name": "stdout",
          "text": [
            "cu\n"
          ]
        }
      ]
    },
    {
      "cell_type": "code",
      "metadata": {
        "colab": {
          "base_uri": "https://localhost:8080/"
        },
        "id": "MdFA49K1GA9D",
        "outputId": "724b76fc-4d88-4ed2-def1-bbed4bf4e628"
      },
      "source": [
        "print(\"ITUB3.SA\" == 'ITUB3.SA')"
      ],
      "execution_count": null,
      "outputs": [
        {
          "output_type": "stream",
          "name": "stdout",
          "text": [
            "True\n"
          ]
        }
      ]
    },
    {
      "cell_type": "code",
      "metadata": {
        "colab": {
          "base_uri": "https://localhost:8080/",
          "height": 35
        },
        "id": "7y1Mo2SxGPBR",
        "outputId": "5ecf9334-0b19-407e-d633-e9c3ded8f9b0"
      },
      "source": [
        "txt = \"PETR3.SA\"\n",
        "x = txt[1]\n",
        "\n",
        "x"
      ],
      "execution_count": null,
      "outputs": [
        {
          "output_type": "execute_result",
          "data": {
            "application/vnd.google.colaboratory.intrinsic+json": {
              "type": "string"
            },
            "text/plain": [
              "'E'"
            ]
          },
          "metadata": {},
          "execution_count": 27
        }
      ]
    },
    {
      "cell_type": "code",
      "metadata": {
        "colab": {
          "base_uri": "https://localhost:8080/",
          "height": 35
        },
        "id": "4FaAuPaCGajU",
        "outputId": "a95a999c-43b7-417d-c00a-06de5e32f9e8"
      },
      "source": [
        "txt = \"PETR3.SA\"\n",
        "x = txt.lower()\n",
        "\n",
        "x"
      ],
      "execution_count": null,
      "outputs": [
        {
          "output_type": "execute_result",
          "data": {
            "application/vnd.google.colaboratory.intrinsic+json": {
              "type": "string"
            },
            "text/plain": [
              "'petr3.sa'"
            ]
          },
          "metadata": {},
          "execution_count": 29
        }
      ]
    },
    {
      "cell_type": "code",
      "metadata": {
        "colab": {
          "base_uri": "https://localhost:8080/"
        },
        "id": "lr15Sd8DGsdj",
        "outputId": "80ec66da-8de5-40f2-b71d-999c991e2e5b"
      },
      "source": [
        "tickers_portifolio = [\"ITUB3.SA\", \"PETR3.SA\"]\n",
        "\n",
        "if \"PETR3.SA\" in tickers_portifolio:\n",
        "    print(\"anus\")"
      ],
      "execution_count": null,
      "outputs": [
        {
          "output_type": "stream",
          "name": "stdout",
          "text": [
            "anus\n"
          ]
        }
      ]
    },
    {
      "cell_type": "code",
      "metadata": {
        "colab": {
          "base_uri": "https://localhost:8080/"
        },
        "id": "8Nyd9tlYHhee",
        "outputId": "160a3a58-7029-4daf-e2eb-db3618bd5ea2"
      },
      "source": [
        "x =3\n",
        "x+=1\n",
        "\n",
        "x"
      ],
      "execution_count": null,
      "outputs": [
        {
          "output_type": "execute_result",
          "data": {
            "text/plain": [
              "4"
            ]
          },
          "metadata": {},
          "execution_count": 36
        }
      ]
    },
    {
      "cell_type": "code",
      "metadata": {
        "colab": {
          "base_uri": "https://localhost:8080/"
        },
        "id": "gcBS1V8rH8gM",
        "outputId": "06151bee-5620-4330-feeb-eb4a908f7dcc"
      },
      "source": [
        "tickers = (\"ITUB3\", \"PETR3.SA\", \"ABEV3.SA\")\n",
        "\n",
        "list(tickers)[0] = \"SULA11.SA\"\n",
        "\n",
        "print(tickers)"
      ],
      "execution_count": null,
      "outputs": [
        {
          "output_type": "stream",
          "name": "stdout",
          "text": [
            "('ITUB3', 'PETR3.SA', 'ABEV3.SA')\n"
          ]
        }
      ]
    },
    {
      "cell_type": "code",
      "metadata": {
        "colab": {
          "base_uri": "https://localhost:8080/"
        },
        "id": "nmNR3A0yIoFD",
        "outputId": "82ad0830-87f3-49d1-ecb7-499d178a5571"
      },
      "source": [
        "\n",
        "\n",
        "tickers = [\"ITUB3.SA\", \"PETR3.SA\"]\n",
        "tickers.append(\"SULA11.SA\")\n",
        "\n",
        "tickers\n"
      ],
      "execution_count": null,
      "outputs": [
        {
          "output_type": "execute_result",
          "data": {
            "text/plain": [
              "['ITUB3.SA', 'PETR3.SA', 'SULA11.SA']"
            ]
          },
          "metadata": {},
          "execution_count": 49
        }
      ]
    },
    {
      "cell_type": "code",
      "metadata": {
        "id": "mMq5xCCxKHXU"
      },
      "source": [
        "itau_unibanco['website_br'] = 'itau.com.br'\n"
      ],
      "execution_count": null,
      "outputs": []
    },
    {
      "cell_type": "code",
      "metadata": {
        "colab": {
          "base_uri": "https://localhost:8080/"
        },
        "id": "weMJMJCbKuML",
        "outputId": "03707ed2-2f7f-43c5-9ef2-aadb3185acd0"
      },
      "source": [
        "tickers = [\"ITUB3\", \"PETR3.SA\", \"ABEV3.SA\"]\n",
        "\n",
        "tickers.insert(1, \"SULA11.SA\")\n",
        "\n",
        "print(len(tickers))\n"
      ],
      "execution_count": null,
      "outputs": [
        {
          "output_type": "stream",
          "name": "stdout",
          "text": [
            "4\n"
          ]
        }
      ]
    },
    {
      "cell_type": "code",
      "metadata": {
        "colab": {
          "base_uri": "https://localhost:8080/"
        },
        "id": "HPyO4yFwLAxN",
        "outputId": "4f76adf3-de89-4ec5-b9a3-004b91156c78"
      },
      "source": [
        "itau_unibanco = {\n",
        "    \"nome\": \"Itau Unibanco SA\",\n",
        "    \"ano_fundacao\": 20019\n",
        "}\n",
        "\n",
        "print(itau_unibanco[\"nome\"])"
      ],
      "execution_count": null,
      "outputs": [
        {
          "output_type": "stream",
          "name": "stdout",
          "text": [
            "Itau Unibanco SA\n"
          ]
        }
      ]
    },
    {
      "cell_type": "code",
      "metadata": {
        "colab": {
          "base_uri": "https://localhost:8080/"
        },
        "id": "yD6PYqntL4Uz",
        "outputId": "fa4c86d5-1885-4986-99d7-dd12186699e9"
      },
      "source": [
        "def removeTicker(tickers):\n",
        "    tickers.remove(\"PETR3.SA\")\n",
        "\n",
        "\n",
        "tickers = [\"ITUB3\", \"PETR3.SA\", \"ABEV3.SA\"]\n",
        "\n",
        "removeTicker(tickers)\n",
        "\n",
        "print(tickers)\n"
      ],
      "execution_count": null,
      "outputs": [
        {
          "output_type": "stream",
          "name": "stdout",
          "text": [
            "['ITUB3', 'ABEV3.SA']\n"
          ]
        }
      ]
    },
    {
      "cell_type": "code",
      "metadata": {
        "colab": {
          "base_uri": "https://localhost:8080/"
        },
        "id": "UmbE-PaSMyiI",
        "outputId": "7168ead3-3a38-4362-8730-f8eab5a91baf"
      },
      "source": [
        "tickers = (\"ITUB3\", \"PETR3.SA\", \"ABEV3.SA\")\n",
        "\n",
        "\n",
        "print(tickers[2])\n"
      ],
      "execution_count": null,
      "outputs": [
        {
          "output_type": "stream",
          "name": "stdout",
          "text": [
            "ABEV3.SA\n"
          ]
        }
      ]
    },
    {
      "cell_type": "code",
      "metadata": {
        "colab": {
          "base_uri": "https://localhost:8080/"
        },
        "id": "plHTWvORNEvV",
        "outputId": "cc46a915-838a-4327-e684-ca3713c28bb2"
      },
      "source": [
        "tickers = [\"ITUB3\", \"PETR3.SA\", \"ABEV3.SA\", \"SULA11.SA\"]\n",
        "print(tickers[1:3])\n"
      ],
      "execution_count": null,
      "outputs": [
        {
          "output_type": "stream",
          "name": "stdout",
          "text": [
            "['PETR3.SA', 'ABEV3.SA']\n"
          ]
        }
      ]
    },
    {
      "cell_type": "code",
      "metadata": {
        "colab": {
          "base_uri": "https://localhost:8080/"
        },
        "id": "HlHdUlx5OHyp",
        "outputId": "d2f735cc-6a43-4465-a12f-ffb56e3704fb"
      },
      "source": [
        "itau_unibanco = {\n",
        "    \"nome\": \"Itau Unibanco SA\",\n",
        "    \"ano_fundacao\": 20019\n",
        "}\n",
        "\n",
        "itau_unibanco[\"nome\"] = \"Itau Unibanco S.A\"\n",
        "\n",
        "print(itau_unibanco[\"nome\"])"
      ],
      "execution_count": null,
      "outputs": [
        {
          "output_type": "stream",
          "name": "stdout",
          "text": [
            "Itau Unibanco S.A\n"
          ]
        }
      ]
    },
    {
      "cell_type": "code",
      "metadata": {
        "colab": {
          "base_uri": "https://localhost:8080/"
        },
        "id": "CAUG3xKYNaSC",
        "outputId": "76a7ed9c-bd86-48d4-e2e2-b5b881a05bd8"
      },
      "source": [
        "tickers = [\"ITUB3\", \"PETR3.SA\", \"ABEV3.SA\"]\n",
        "print(tickers[1])\n"
      ],
      "execution_count": null,
      "outputs": [
        {
          "output_type": "stream",
          "name": "stdout",
          "text": [
            "PETR3.SA\n"
          ]
        }
      ]
    },
    {
      "cell_type": "code",
      "metadata": {
        "id": "weuRpRwKO0Az"
      },
      "source": [
        "import math as m"
      ],
      "execution_count": null,
      "outputs": []
    },
    {
      "cell_type": "code",
      "metadata": {
        "colab": {
          "base_uri": "https://localhost:8080/"
        },
        "id": "N6h8wyXVPScy",
        "outputId": "ed5f60ee-2a06-46a8-c713-e028bcfbb17d"
      },
      "source": [
        "i = 1\n",
        "for i in range(1,6):\n",
        "    print(i)\n",
        "    i = i +1\n",
        "    break"
      ],
      "execution_count": null,
      "outputs": [
        {
          "output_type": "stream",
          "name": "stdout",
          "text": [
            "1\n"
          ]
        }
      ]
    },
    {
      "cell_type": "code",
      "metadata": {
        "id": "FUqUZ_yRPvSQ"
      },
      "source": [
        "class Empresa"
      ],
      "execution_count": null,
      "outputs": []
    },
    {
      "cell_type": "code",
      "metadata": {
        "colab": {
          "base_uri": "https://localhost:8080/"
        },
        "id": "x-v5k8UeRrtG",
        "outputId": "fa62aa0a-601e-4964-8e9c-3becaada6bb9"
      },
      "source": [
        "tickers = [\"ITUB3\", \"PETR3.SA\", \"ABEV3.SA\"]\n",
        "\n",
        "for x in tickers:\n",
        "    print(x)"
      ],
      "execution_count": null,
      "outputs": [
        {
          "output_type": "stream",
          "name": "stdout",
          "text": [
            "ITUB3\n",
            "PETR3.SA\n",
            "ABEV3.SA\n"
          ]
        }
      ]
    },
    {
      "cell_type": "code",
      "metadata": {
        "colab": {
          "base_uri": "https://localhost:8080/",
          "height": 130
        },
        "id": "MfKr5SEsSLyT",
        "outputId": "96298dd6-2a34-4a49-f6f8-c2b87abe3f96"
      },
      "source": [
        ""
      ],
      "execution_count": null,
      "outputs": [
        {
          "output_type": "error",
          "ename": "SyntaxError",
          "evalue": "ignored",
          "traceback": [
            "\u001b[0;36m  File \u001b[0;32m\"<ipython-input-80-4c0c7be05b4a>\"\u001b[0;36m, line \u001b[0;32m1\u001b[0m\n\u001b[0;31m    def ordemDeCompra:\u001b[0m\n\u001b[0m                     ^\u001b[0m\n\u001b[0;31mSyntaxError\u001b[0m\u001b[0;31m:\u001b[0m invalid syntax\n"
          ]
        }
      ]
    },
    {
      "cell_type": "code",
      "metadata": {
        "id": "y8AKruiISvNr"
      },
      "source": [
        "class Banco(Empresa):\n",
        "    def __init__(self):\n",
        "        Empresa.__init__(self)\n"
      ],
      "execution_count": null,
      "outputs": []
    },
    {
      "cell_type": "code",
      "metadata": {
        "id": "q_fmEDxJTYRn"
      },
      "source": [
        "alvo = 30.15\n",
        "valor = 30.16\n",
        "\n",
        "if valor >= alvo:\n",
        "    print(\"venda\")\n"
      ],
      "execution_count": null,
      "outputs": []
    },
    {
      "cell_type": "code",
      "metadata": {
        "colab": {
          "base_uri": "https://localhost:8080/"
        },
        "id": "oXDNNplPTvn2",
        "outputId": "f65c2906-eb42-4add-9242-c4754eb4c468"
      },
      "source": [
        "\n",
        "x = 1\n",
        "\n",
        "for i in range(0,10):\n",
        "    print(x)"
      ],
      "execution_count": null,
      "outputs": [
        {
          "output_type": "stream",
          "name": "stdout",
          "text": [
            "1\n",
            "1\n",
            "1\n",
            "1\n",
            "1\n",
            "1\n",
            "1\n",
            "1\n",
            "1\n",
            "1\n"
          ]
        }
      ]
    },
    {
      "cell_type": "code",
      "metadata": {
        "colab": {
          "base_uri": "https://localhost:8080/",
          "height": 336
        },
        "id": "LZ2sAVi9U5Mh",
        "outputId": "0c4b1f94-e4d1-4c01-e7d5-8cdec8daf4e2"
      },
      "source": [
        ""
      ],
      "execution_count": null,
      "outputs": [
        {
          "output_type": "error",
          "ename": "ModuleNotFoundError",
          "evalue": "ignored",
          "traceback": [
            "\u001b[0;31m---------------------------------------------------------------------------\u001b[0m",
            "\u001b[0;31mModuleNotFoundError\u001b[0m                       Traceback (most recent call last)",
            "\u001b[0;32m<ipython-input-90-d7c2b8a28d42>\u001b[0m in \u001b[0;36m<module>\u001b[0;34m()\u001b[0m\n\u001b[0;32m----> 1\u001b[0;31m \u001b[0;32mimport\u001b[0m \u001b[0mmath\u001b[0m\u001b[0;34m.\u001b[0m\u001b[0mpi\u001b[0m \u001b[0;32mas\u001b[0m \u001b[0mpi\u001b[0m\u001b[0;34m\u001b[0m\u001b[0;34m\u001b[0m\u001b[0m\n\u001b[0m\u001b[1;32m      2\u001b[0m \u001b[0;34m\u001b[0m\u001b[0m\n\u001b[1;32m      3\u001b[0m \u001b[0mprint\u001b[0m\u001b[0;34m(\u001b[0m\u001b[0;34m)\u001b[0m\u001b[0;34m\u001b[0m\u001b[0;34m\u001b[0m\u001b[0m\n",
            "\u001b[0;31mModuleNotFoundError\u001b[0m: No module named 'math.pi'; 'math' is not a package",
            "",
            "\u001b[0;31m---------------------------------------------------------------------------\u001b[0;32m\nNOTE: If your import is failing due to a missing package, you can\nmanually install dependencies using either !pip or !apt.\n\nTo view examples of installing some common dependencies, click the\n\"Open Examples\" button below.\n\u001b[0;31m---------------------------------------------------------------------------\u001b[0m\n"
          ],
          "errorDetails": {
            "actions": [
              {
                "action": "open_url",
                "actionText": "Open Examples",
                "url": "/notebooks/snippets/importing_libraries.ipynb"
              }
            ]
          }
        }
      ]
    },
    {
      "cell_type": "code",
      "metadata": {
        "colab": {
          "base_uri": "https://localhost:8080/"
        },
        "id": "QMCLlcE-VoXI",
        "outputId": "ff6fae2f-d4b0-4424-c682-272572650a6b"
      },
      "source": [
        "def consultaPrecoAtual(ticker):\n",
        "    print(ticker)\n",
        "\n",
        "\n",
        "consultaPrecoAtual(\"SULA11.SA\") "
      ],
      "execution_count": null,
      "outputs": [
        {
          "output_type": "stream",
          "name": "stdout",
          "text": [
            "SULA11.SA\n"
          ]
        }
      ]
    },
    {
      "cell_type": "code",
      "metadata": {
        "colab": {
          "base_uri": "https://localhost:8080/"
        },
        "id": "Yyv3TEs9Wg1V",
        "outputId": "a67ade39-a3fb-436c-b0a5-7c33bdf0d604"
      },
      "source": [
        "import math\n",
        "\n",
        "x = math.pi\n",
        "\n",
        "x"
      ],
      "execution_count": null,
      "outputs": [
        {
          "output_type": "execute_result",
          "data": {
            "text/plain": [
              "3.141592653589793"
            ]
          },
          "metadata": {},
          "execution_count": 94
        }
      ]
    },
    {
      "cell_type": "code",
      "metadata": {
        "colab": {
          "base_uri": "https://localhost:8080/"
        },
        "id": "chov8ESbXwY6",
        "outputId": "c8358dfc-6b54-445d-824f-de748160eb84"
      },
      "source": [
        "# AQUI\n",
        "tickers = [\"ITUB3\", \"PETR3.SA\", \"ABEV3.SA\"]\n",
        "\n",
        "y = list(tickers)\n",
        "tickers[0] = \"SULA11.SA\"  \n",
        "\n",
        "print(tickers)"
      ],
      "execution_count": null,
      "outputs": [
        {
          "output_type": "stream",
          "name": "stdout",
          "text": [
            "['SULA11.SA', 'PETR3.SA', 'ABEV3.SA']\n"
          ]
        }
      ]
    }
  ]
}
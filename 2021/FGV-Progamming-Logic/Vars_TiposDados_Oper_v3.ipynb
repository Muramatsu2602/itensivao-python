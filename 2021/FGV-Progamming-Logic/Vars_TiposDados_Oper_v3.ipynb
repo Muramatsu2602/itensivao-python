{
 "cells": [
  {
   "cell_type": "markdown",
   "source": [
    "# O Python-Base e as Outras Bibliotecas"
   ],
   "metadata": {}
  },
  {
   "cell_type": "markdown",
   "source": [
    "O Python-Base é o conjunto de estruturas e funções mais fundamentais do Python, e é ele que é carregado em memória de trabalho por padrão quando uma aplicação Python é carregada.\n",
    "\n",
    "A visão geral de seus recursos pode ser acessada em seu website https://www.python.org/ e sua documentação pode ser acessada em https://www.python.org/doc/."
   ],
   "metadata": {}
  },
  {
   "cell_type": "markdown",
   "source": [
    "Mas o Python possui uma série de outras bibliotecas (nome dado aos conjuntos de estruturas e funções para propósitos específicos) que podem ser carregadas pelo programador mediante necessidade."
   ],
   "metadata": {}
  },
  {
   "cell_type": "markdown",
   "source": [
    "Outras bibliotecas são carregadas (desde que já estejam instaladas) pelo comando **import**, como é exemplificado abaixo pelo código de importação (carregamento em memória de trabalho naquela seção de trabalho) da biblioteca **math**, que contém uma séria de estruturas e funções matemáticas."
   ],
   "metadata": {}
  },
  {
   "cell_type": "code",
   "execution_count": 1,
   "source": [
    "import math"
   ],
   "outputs": [],
   "metadata": {}
  },
  {
   "cell_type": "code",
   "execution_count": 2,
   "source": [
    "# Com a biblioteca math, pode-se, por exemplo, acessar o valor das constantes matemáticas, \n",
    "# como o pi. O acesso aos recursos de cada biblioteca é sempre feito com o padrão \n",
    "# <nome_da_biblioteca>.<nome_do_recurso>.\n",
    "math.pi"
   ],
   "outputs": [
    {
     "output_type": "execute_result",
     "data": {
      "text/plain": [
       "3.141592653589793"
      ]
     },
     "metadata": {},
     "execution_count": 2
    }
   ],
   "metadata": {}
  },
  {
   "cell_type": "markdown",
   "source": [
    "Outra possibilidade de importação de biblioteca é atribuir um apelido mais curto para o nome da biblioteca. Por exemplo:"
   ],
   "metadata": {}
  },
  {
   "cell_type": "code",
   "execution_count": 3,
   "source": [
    "import math as m"
   ],
   "outputs": [],
   "metadata": {}
  },
  {
   "cell_type": "code",
   "execution_count": 4,
   "source": [
    "m.pi"
   ],
   "outputs": [
    {
     "output_type": "execute_result",
     "data": {
      "text/plain": [
       "3.141592653589793"
      ]
     },
     "metadata": {},
     "execution_count": 4
    }
   ],
   "metadata": {}
  },
  {
   "cell_type": "markdown",
   "source": [
    "Ainda outra possibilidade é a importação seletiva. Ao invés de se importar uma biblioteca inteira, é importado apenas um ou mais componentes dentro dela. Por um lado, isso evita que se tenha que escrever o nome da biblioteca a cada vez que se vá utilizar seus recursos, além de economizar memória de trabalho (pois só uma pequena parte da biblioteca estará carregada). Por outro lado, não referenciar a biblioteca pode ser confuso na programação, pois às vezes bibliotecas diferentes possuem recursos com o mesmo nome (mas propriedades distintas), e neste caso não é imediato descobrir de qual biblioteca vem o recurso.\n",
    "\n",
    "Veja um exemplo da importação seletiva:"
   ],
   "metadata": {}
  },
  {
   "cell_type": "code",
   "execution_count": 5,
   "source": [
    "from math import pi"
   ],
   "outputs": [],
   "metadata": {}
  },
  {
   "cell_type": "code",
   "execution_count": 6,
   "source": [
    "pi"
   ],
   "outputs": [
    {
     "output_type": "execute_result",
     "data": {
      "text/plain": [
       "3.141592653589793"
      ]
     },
     "metadata": {},
     "execution_count": 6
    }
   ],
   "metadata": {}
  },
  {
   "cell_type": "markdown",
   "source": [
    "Apesar de termos visto aqui como importar bibliotecas com outros recursos, vamos procurar não usá-las aqui neste notebook, pois nosso objetivo é investigar o Python-Base."
   ],
   "metadata": {}
  },
  {
   "cell_type": "markdown",
   "source": [
    "# Variáveis"
   ],
   "metadata": {
    "colab_type": "text",
    "id": "xgm9WhMW5XR_"
   }
  },
  {
   "cell_type": "markdown",
   "source": [
    "## Atribuição em Variáveis"
   ],
   "metadata": {
    "colab_type": "text",
    "id": "nTDOt2h65ahY"
   }
  },
  {
   "cell_type": "markdown",
   "source": [
    "Valores ou objetos podem ser atribuidos a variáveis, conforme abaixo, e o símbolo usado é o de =. O que está à direita (5, no exemplo) é armazenado na variável que está à esquerda (price, no exemplo)."
   ],
   "metadata": {}
  },
  {
   "cell_type": "code",
   "execution_count": 7,
   "source": [
    "# Seja price o preço de um determinado unitário de ativo financeiro. \n",
    "price = 5.76\n",
    "# Obs: Repare que valores numericos decimais são grafados com '.' (padrão de grafia\n",
    "# anglo-americano) e não com ',' (padrão de grafia no Brasil)."
   ],
   "outputs": [],
   "metadata": {
    "colab": {},
    "colab_type": "code",
    "id": "cpWGN1nl6wwR"
   }
  },
  {
   "cell_type": "code",
   "execution_count": 8,
   "source": [
    "price"
   ],
   "outputs": [
    {
     "output_type": "execute_result",
     "data": {
      "text/plain": [
       "5.76"
      ]
     },
     "metadata": {},
     "execution_count": 8
    }
   ],
   "metadata": {}
  },
  {
   "cell_type": "markdown",
   "source": [
    "ATENÇÃO: Não confundir! ATRIBUIÇÃO **é diferente de** EQUAÇÃO.\n",
    "\n",
    "Repare que uma atribuição é diferente de equação. A estrutura de uma atribuição é muito parecida com uma equação matemática, mas não é. Veja o exemplo abaixo:"
   ],
   "metadata": {}
  },
  {
   "cell_type": "code",
   "execution_count": 9,
   "source": [
    "# Suponha que você queira atualizar o preço em 0.04\n",
    "price = price + 0.04"
   ],
   "outputs": [],
   "metadata": {}
  },
  {
   "cell_type": "code",
   "execution_count": 10,
   "source": [
    "price"
   ],
   "outputs": [
    {
     "output_type": "execute_result",
     "data": {
      "text/plain": [
       "5.8"
      ]
     },
     "metadata": {},
     "execution_count": 10
    }
   ],
   "metadata": {}
  },
  {
   "cell_type": "markdown",
   "source": [
    "A variável price no lado direito carregava 5.76, ao qual foram adicionados 0.04, e o valor resultante foi atribuido à mesma variável price, que passou a exibir valor 5.80. É assim que atribuição funciona. Primeiro calcula-se o lado direito do =, depois atribui-se ao que está do lado esquerdo."
   ],
   "metadata": {}
  },
  {
   "cell_type": "markdown",
   "source": [
    "Se tivéssemos encarado 'price = price + 0.04' como uma equação (o que é incorreto), com price como variável à ser descoberta, teríamos que 0.00 seria igual 0.04, que é absurdo e inválido."
   ],
   "metadata": {}
  },
  {
   "cell_type": "markdown",
   "source": [
    "Vejamos um outro exemplo."
   ],
   "metadata": {}
  },
  {
   "cell_type": "markdown",
   "source": [
    "Novamente, temos um preço de 5.76 u.m.. E agora vamos aumentá-lo em 10%. Veja:"
   ],
   "metadata": {}
  },
  {
   "cell_type": "code",
   "execution_count": 11,
   "source": [
    "price = 5.76\n",
    "# Aumentamos o preço em 10% multiplicando o preço anterior por 1.1:\n",
    "price = price * 1.10"
   ],
   "outputs": [],
   "metadata": {}
  },
  {
   "cell_type": "code",
   "execution_count": 12,
   "source": [
    "price"
   ],
   "outputs": [
    {
     "output_type": "execute_result",
     "data": {
      "text/plain": [
       "6.336"
      ]
     },
     "metadata": {},
     "execution_count": 12
    }
   ],
   "metadata": {}
  },
  {
   "cell_type": "code",
   "execution_count": 13,
   "source": [
    "# Ah, claro, o preço em u.m. não possui 3 casas decimais. Então vamos usar um \n",
    "# arredondamento simples:\n",
    "price = round(price,2)"
   ],
   "outputs": [],
   "metadata": {}
  },
  {
   "cell_type": "code",
   "execution_count": 14,
   "source": [
    "price"
   ],
   "outputs": [
    {
     "output_type": "execute_result",
     "data": {
      "text/plain": [
       "6.34"
      ]
     },
     "metadata": {},
     "execution_count": 14
    }
   ],
   "metadata": {}
  },
  {
   "cell_type": "markdown",
   "source": [
    "Voltando à expressão 'price = price * 1.10', se tivéssemos a interpretado como uma equação (o que é errado), ao resolvê-la chegaríamos em price = 0, que não era nosso objetivo."
   ],
   "metadata": {}
  },
  {
   "cell_type": "markdown",
   "source": [
    "## Tipos de Dados"
   ],
   "metadata": {}
  },
  {
   "cell_type": "markdown",
   "source": [
    "O Python-Base possui os tipos de dados mais fundamentais do Python, a saber:"
   ],
   "metadata": {}
  },
  {
   "cell_type": "code",
   "execution_count": 15,
   "source": [
    "# A sub-biblioteca display do interpretador IPython (que é aquele com funcionalidades \n",
    "# que permitem interações com IDEs do tipo notebook) possui uma função para importação \n",
    "# de figuras para dentro dos notebooks. Basta para isso passar como argumento da função\n",
    "# um texto (entendido como tudo aquilo que está dentro de parênteses) com o caminho do \n",
    "# arquivo de figura (Ex: C:/PythonBase_TiposDeDados.png - obs: usar a / desta forma ao \n",
    "# indicar um caminho). Caso o arquivo de figura esteja na mesma pasta do notebook, basta \n",
    "# passar o nome do arquivo (caso do código abaixo).\n",
    "from IPython.display import Image\n",
    "Image(\"PythonBase_TiposDeDados.png\")"
   ],
   "outputs": [
    {
     "output_type": "execute_result",
     "data": {
      "image/png": "[encoded data removed]",
      "text/plain": [
       "<IPython.core.display.Image object>"
      ]
     },
     "metadata": {},
     "execution_count": 15
    }
   ],
   "metadata": {}
  },
  {
   "cell_type": "markdown",
   "source": [
    "Os elementos do tipo **numérico (numeric)** são divididos em dois tipos: inteiros (integer) e decimais (float).\n",
    "\n",
    "Os elementos **cadeia de caracteres (string)** são aqueles que guardam texto.\n",
    "\n",
    "Os elementos do tipo **booleano (boolean)** são aqueles que guardam valores do tipo Verdadeiro (True) ou Falso (False), advindos da Lógica Booleana.\n",
    "\n",
    "Os elementos do tipo **lista (list)** são elementos que podem englobar outros elementos, de tipos diferente, em forma de lista.\n",
    "\n",
    "Os elementos do tipo **tupla (tuple)** são como listas, mas possuem restrições de modificações (para o caso de querer se evitar que determinados dados sejam alterados).\n",
    "\n",
    "Os elementos do tipo **dicionário (dictionary)** guardam dados no formato de chave:valor (key:value), assim como os dicionários físicos, servindo para pesquisa por termos textuais.\n",
    "\n",
    "**Listas, tuplas e dicionarios** podem se conter uns nos outros, como mostra a última linha da figura."
   ],
   "metadata": {}
  },
  {
   "cell_type": "markdown",
   "source": [
    "Vamos investigar cada um dos tipos fundamentais a seguir."
   ],
   "metadata": {}
  },
  {
   "cell_type": "markdown",
   "source": [
    "## Tipo Numérico (numeric)"
   ],
   "metadata": {}
  },
  {
   "cell_type": "markdown",
   "source": [
    "## Tipo Inteiro (integer):"
   ],
   "metadata": {}
  },
  {
   "cell_type": "code",
   "execution_count": 16,
   "source": [
    "# Seja a quantidade de um determinado ativo:\n",
    "qt = 10"
   ],
   "outputs": [],
   "metadata": {}
  },
  {
   "cell_type": "code",
   "execution_count": 17,
   "source": [
    "# A função type retorna o tipo da variável.\n",
    "type(10)\n",
    "# Obs: FUNÇÕES\n",
    "# O Python-Base possui algumas funções, que são recursos que recebem argumentos (dados de\n",
    "# entrada, inputs) e faz algum processamento de acordo com esses argumentos, retornando \n",
    "# (na maioria das vezes, mas não obrigatoriamente - quando ela apenas executa uma tarefa) \n",
    "# algum valor de interesse para quem a chamou.\n",
    "# As funções são identificáveis pelo padrão <nome_da_função>(<argumentos_da_função>). \n",
    "# Os parêntes indicam uma função, que é um  elemento de ação (processamento). Dentro dos \n",
    "# parênteses vão os argumentos (caso houverem ou sejam necessários), separados por ','.\n",
    "# A estrutura das funções, seus argumentos e como usá-las pode ser encontrados na \n",
    "# documentação no site do Python."
   ],
   "outputs": [
    {
     "output_type": "execute_result",
     "data": {
      "text/plain": [
       "int"
      ]
     },
     "metadata": {},
     "execution_count": 17
    }
   ],
   "metadata": {}
  },
  {
   "cell_type": "code",
   "execution_count": 18,
   "source": [
    "type(qt)"
   ],
   "outputs": [
    {
     "output_type": "execute_result",
     "data": {
      "text/plain": [
       "int"
      ]
     },
     "metadata": {},
     "execution_count": 18
    }
   ],
   "metadata": {}
  },
  {
   "cell_type": "markdown",
   "source": [
    "### Tipo Decimal (float):"
   ],
   "metadata": {}
  },
  {
   "cell_type": "code",
   "execution_count": 19,
   "source": [
    "# Seja o preço de determinado ativo:\n",
    "price = 23.40"
   ],
   "outputs": [],
   "metadata": {}
  },
  {
   "cell_type": "code",
   "execution_count": 20,
   "source": [
    "type(23.40)"
   ],
   "outputs": [
    {
     "output_type": "execute_result",
     "data": {
      "text/plain": [
       "float"
      ]
     },
     "metadata": {},
     "execution_count": 20
    }
   ],
   "metadata": {}
  },
  {
   "cell_type": "code",
   "execution_count": 21,
   "source": [
    "type(price)"
   ],
   "outputs": [
    {
     "output_type": "execute_result",
     "data": {
      "text/plain": [
       "float"
      ]
     },
     "metadata": {},
     "execution_count": 21
    }
   ],
   "metadata": {}
  },
  {
   "cell_type": "markdown",
   "source": [
    "### Operações com Números"
   ],
   "metadata": {}
  },
  {
   "cell_type": "markdown",
   "source": [
    "Em geral, é possível fazer operações numéricas misturando inteiros (integer) com decimais (float), sem alterações significativas nos resultados. As únicas particularidades ocorrem nos cálculos de divisão, como poderá ser visto no decorrer desta seção."
   ],
   "metadata": {}
  },
  {
   "cell_type": "markdown",
   "source": [
    "Soma de dois números (usa-se o + como operador):"
   ],
   "metadata": {
    "colab_type": "text",
    "id": "MzgTkWr87wQK"
   }
  },
  {
   "cell_type": "code",
   "execution_count": 22,
   "source": [
    "price = 5.76"
   ],
   "outputs": [],
   "metadata": {}
  },
  {
   "cell_type": "code",
   "execution_count": 23,
   "source": [
    "price + 0.04"
   ],
   "outputs": [
    {
     "output_type": "execute_result",
     "data": {
      "text/plain": [
       "5.8"
      ]
     },
     "metadata": {},
     "execution_count": 23
    }
   ],
   "metadata": {
    "colab": {
     "base_uri": "https://localhost:8080/",
     "height": 34
    },
    "colab_type": "code",
    "id": "H_LdREJy7tyT",
    "outputId": "45450271-792c-4408-ba13-86c368ec262f"
   }
  },
  {
   "cell_type": "markdown",
   "source": [
    "Subtração de dois números (usa-se o - como operador):"
   ],
   "metadata": {
    "colab_type": "text",
    "id": "frKjq-4a74To"
   }
  },
  {
   "cell_type": "code",
   "execution_count": 24,
   "source": [
    "price - 0.04"
   ],
   "outputs": [
    {
     "output_type": "execute_result",
     "data": {
      "text/plain": [
       "5.72"
      ]
     },
     "metadata": {},
     "execution_count": 24
    }
   ],
   "metadata": {
    "colab": {
     "base_uri": "https://localhost:8080/",
     "height": 34
    },
    "colab_type": "code",
    "id": "M2g_iFYR724Y",
    "outputId": "46a92af3-60ef-4631-914c-a2b92bb2d68d"
   }
  },
  {
   "cell_type": "markdown",
   "source": [
    "Multiplicação de dois números (usa-se o * como operador):"
   ],
   "metadata": {
    "colab_type": "text",
    "id": "hgGWgRwf7-V-"
   }
  },
  {
   "cell_type": "code",
   "execution_count": 25,
   "source": [
    "price = 5.76"
   ],
   "outputs": [],
   "metadata": {}
  },
  {
   "cell_type": "code",
   "execution_count": 26,
   "source": [
    "qt = 10"
   ],
   "outputs": [],
   "metadata": {}
  },
  {
   "cell_type": "code",
   "execution_count": 27,
   "source": [
    "# Seja o valor total de compra dado pela multiplicação do preço unitário do ativo pela\n",
    "# sua quantidade.\n",
    "price * qt"
   ],
   "outputs": [
    {
     "output_type": "execute_result",
     "data": {
      "text/plain": [
       "57.599999999999994"
      ]
     },
     "metadata": {},
     "execution_count": 27
    }
   ],
   "metadata": {
    "colab": {
     "base_uri": "https://localhost:8080/",
     "height": 34
    },
    "colab_type": "code",
    "id": "x12XGFSy8B3C",
    "outputId": "7632dcbe-27f2-490f-ff42-b579b21be858"
   }
  },
  {
   "cell_type": "code",
   "execution_count": 28,
   "source": [
    "# Ou para o valor ficar com arredondamento duas casas decimais:\n",
    "round(price * qt, 2)"
   ],
   "outputs": [
    {
     "output_type": "execute_result",
     "data": {
      "text/plain": [
       "57.6"
      ]
     },
     "metadata": {},
     "execution_count": 28
    }
   ],
   "metadata": {}
  },
  {
   "cell_type": "markdown",
   "source": [
    "Exponenciação (usa-se o ** como operador):"
   ],
   "metadata": {
    "colab_type": "text",
    "id": "5q1VxTqt8CPa"
   }
  },
  {
   "cell_type": "code",
   "execution_count": 29,
   "source": [
    "# Seja uma taxa de juros mensal e o número de períodos mensais em um ano:\n",
    "interest = 0.02\n",
    "periods = 12"
   ],
   "outputs": [],
   "metadata": {}
  },
  {
   "cell_type": "code",
   "execution_count": 30,
   "source": [
    "# Pode-se calcular por exponenciação o fator de crescimento composto do principal:\n",
    "(1 + interest)**periods"
   ],
   "outputs": [
    {
     "output_type": "execute_result",
     "data": {
      "text/plain": [
       "1.2682417945625455"
      ]
     },
     "metadata": {},
     "execution_count": 30
    }
   ],
   "metadata": {
    "colab": {
     "base_uri": "https://localhost:8080/",
     "height": 34
    },
    "colab_type": "code",
    "id": "_eKzeloH8Hul",
    "outputId": "4c59fa6e-3dc0-4207-fe32-ff441739e3fb"
   }
  },
  {
   "cell_type": "markdown",
   "source": [
    "Divisão inteira (usa-se o // e o % como operadores):"
   ],
   "metadata": {
    "colab_type": "text",
    "id": "oMFDx0za8Iad"
   }
  },
  {
   "cell_type": "code",
   "execution_count": 31,
   "source": [
    "# Sejam o valor total em dividendos de um ativo e a quantidade de ações do mesmo \n",
    "# que você possui:\n",
    "dividend_total = 20946.98\n",
    "qt = 40000"
   ],
   "outputs": [],
   "metadata": {}
  },
  {
   "cell_type": "code",
   "execution_count": 32,
   "source": [
    "# Você gostaria de saber quanto você recebeu de dividendos por ação. Ao usar o operador\n",
    "# // você estará realizando a operação de divisão inteira, e obterá o valor 0 (pois o \n",
    "# numerador é menor que o denominador). Este certamente não era o resultado esperado por\n",
    "# você, que queria a divisão exata (decimal).\n",
    "dividend_total // qt\n",
    "# Apesar de a divisão inteira não ser a desejada aqui, você precisará usá-la em algumas \n",
    "# ocasiões. Então vale a pena conhecer sua operação."
   ],
   "outputs": [
    {
     "output_type": "execute_result",
     "data": {
      "text/plain": [
       "0.0"
      ]
     },
     "metadata": {},
     "execution_count": 32
    }
   ],
   "metadata": {
    "colab": {
     "base_uri": "https://localhost:8080/",
     "height": 34
    },
    "colab_type": "code",
    "id": "uruhif5o9AML",
    "outputId": "d34cffda-41b2-4c8f-8d8f-23d7cb0de0af"
   }
  },
  {
   "cell_type": "code",
   "execution_count": 33,
   "source": [
    "# Apenas complementando o cálculo de divisão inteira visto acima, caso seja preciso obter\n",
    "# o resto da divisão inteira, basta usar o operador % nos mesmos numerador e divisor. \n",
    "# Para o exemplo em questão, o resto é de 20946.98.\n",
    "dividend_total % qt"
   ],
   "outputs": [
    {
     "output_type": "execute_result",
     "data": {
      "text/plain": [
       "20946.98"
      ]
     },
     "metadata": {},
     "execution_count": 33
    }
   ],
   "metadata": {
    "colab": {
     "base_uri": "https://localhost:8080/",
     "height": 34
    },
    "colab_type": "code",
    "id": "8w5Wqqcg8MW9",
    "outputId": "ea888cbf-db1d-4134-b146-cfe5c482f3e8"
   }
  },
  {
   "cell_type": "markdown",
   "source": [
    "Divisão exata:"
   ],
   "metadata": {
    "colab_type": "text",
    "id": "LmPAboxt8Mzf"
   }
  },
  {
   "cell_type": "code",
   "execution_count": 34,
   "source": [
    "# Para o mesmo problema acima (dividendos por ação), agora vamos calcular a divisão exata\n",
    "# através do operador /:\n",
    "dividend_total / qt\n",
    "# Agora sim você obteve o resultado que esperava."
   ],
   "outputs": [
    {
     "output_type": "execute_result",
     "data": {
      "text/plain": [
       "0.5236745"
      ]
     },
     "metadata": {},
     "execution_count": 34
    }
   ],
   "metadata": {
    "colab": {
     "base_uri": "https://localhost:8080/",
     "height": 34
    },
    "colab_type": "code",
    "id": "eK6_CUYC8Qhj",
    "outputId": "ca3f7f12-d3a5-4f94-a0db-948bf4ab6212"
   }
  },
  {
   "cell_type": "code",
   "execution_count": 35,
   "source": [
    "# Ou para o valor ficar com arredondamento duas casas decimais:\n",
    "round(dividend_total / qt, 2)\n",
    "# Portanto, você terá recebido 52 centavos de u.m. em dividendos por ação."
   ],
   "outputs": [
    {
     "output_type": "execute_result",
     "data": {
      "text/plain": [
       "0.52"
      ]
     },
     "metadata": {},
     "execution_count": 35
    }
   ],
   "metadata": {
    "colab": {
     "base_uri": "https://localhost:8080/",
     "height": 34
    },
    "colab_type": "code",
    "id": "RDm1JUac9pyZ",
    "outputId": "6fc6cf9a-025f-41c5-daf7-80b84ced6fba"
   }
  },
  {
   "cell_type": "markdown",
   "source": [
    "### Conversão de Tipos"
   ],
   "metadata": {}
  },
  {
   "cell_type": "markdown",
   "source": [
    "De inteiro (integer) para decimal (float):"
   ],
   "metadata": {}
  },
  {
   "cell_type": "code",
   "execution_count": 36,
   "source": [
    "# Suponha um ativo que tenha seu preço unitário 5 u.m.:\n",
    "price = 5"
   ],
   "outputs": [],
   "metadata": {}
  },
  {
   "cell_type": "code",
   "execution_count": 37,
   "source": [
    "# Preço seria uma variável decimal, mas ao atribuir da forma acima o tipo fica inteiro:\n",
    "type(price)"
   ],
   "outputs": [
    {
     "output_type": "execute_result",
     "data": {
      "text/plain": [
       "int"
      ]
     },
     "metadata": {},
     "execution_count": 37
    }
   ],
   "metadata": {}
  },
  {
   "cell_type": "code",
   "execution_count": 38,
   "source": [
    "# Para transformar para o tipo decimal (float), pode-se utilizar a função float e atribuir \n",
    "# o resultado à variável original, sobrescrevendo-a:\n",
    "price = float(price)"
   ],
   "outputs": [],
   "metadata": {}
  },
  {
   "cell_type": "code",
   "execution_count": 39,
   "source": [
    "type(price)"
   ],
   "outputs": [
    {
     "output_type": "execute_result",
     "data": {
      "text/plain": [
       "float"
      ]
     },
     "metadata": {},
     "execution_count": 39
    }
   ],
   "metadata": {}
  },
  {
   "cell_type": "markdown",
   "source": [
    "Maneiras de se atribuir um valor inteiro já com o tipo float:"
   ],
   "metadata": {}
  },
  {
   "cell_type": "code",
   "execution_count": 40,
   "source": [
    "# Para o exemplo em questão, seria possível já atribuir o valor de 5 u.m. já com o tipo\n",
    "# decimal (float)? Sim, é possível. Um primeiro exemplo:\n",
    "price = 5.0"
   ],
   "outputs": [],
   "metadata": {}
  },
  {
   "cell_type": "code",
   "execution_count": 41,
   "source": [
    "type(price)"
   ],
   "outputs": [
    {
     "output_type": "execute_result",
     "data": {
      "text/plain": [
       "float"
      ]
     },
     "metadata": {},
     "execution_count": 41
    }
   ],
   "metadata": {}
  },
  {
   "cell_type": "code",
   "execution_count": 42,
   "source": [
    "# Ou simplesmente colocar o ponto após o valor inteiro, que também já é interpretado como\n",
    "# valor decimal (float):\n",
    "price = 5."
   ],
   "outputs": [],
   "metadata": {}
  },
  {
   "cell_type": "code",
   "execution_count": 43,
   "source": [
    "type(price)"
   ],
   "outputs": [
    {
     "output_type": "execute_result",
     "data": {
      "text/plain": [
       "float"
      ]
     },
     "metadata": {},
     "execution_count": 43
    }
   ],
   "metadata": {}
  },
  {
   "cell_type": "markdown",
   "source": [
    "De decimal (float) para inteiro (integer):"
   ],
   "metadata": {}
  },
  {
   "cell_type": "code",
   "execution_count": 44,
   "source": [
    "# Cuidado ao transformar um número decimal (float) em um inteiro (integer): você poerderá\n",
    "# a parte decimal! Se isso for realmente o que você quer, vá em frente.\n",
    "price = 5.76"
   ],
   "outputs": [],
   "metadata": {}
  },
  {
   "cell_type": "code",
   "execution_count": 45,
   "source": [
    "price = int(price)"
   ],
   "outputs": [],
   "metadata": {}
  },
  {
   "cell_type": "code",
   "execution_count": 46,
   "source": [
    "price"
   ],
   "outputs": [
    {
     "output_type": "execute_result",
     "data": {
      "text/plain": [
       "5"
      ]
     },
     "metadata": {},
     "execution_count": 46
    }
   ],
   "metadata": {}
  },
  {
   "cell_type": "code",
   "execution_count": 47,
   "source": [
    "type(price)"
   ],
   "outputs": [
    {
     "output_type": "execute_result",
     "data": {
      "text/plain": [
       "int"
      ]
     },
     "metadata": {},
     "execution_count": 47
    }
   ],
   "metadata": {}
  },
  {
   "cell_type": "markdown",
   "source": [
    "## Tipo Booleano (Boolean)"
   ],
   "metadata": {}
  },
  {
   "cell_type": "markdown",
   "source": [
    "### Geral"
   ],
   "metadata": {}
  },
  {
   "cell_type": "markdown",
   "source": [
    "É um tipo básico de dados que assume apenas dois estados: Verdadeiro (True) ou Falso (False), que são valores resultantes das operações de lógica algébrica  introduzidas por George Boole em meados do século XIX (conhecida como Lógica Booliana). "
   ],
   "metadata": {}
  },
  {
   "cell_type": "markdown",
   "source": [
    "Os valores válidos são True e False escritos assim, com a primeira letra maiúscula."
   ],
   "metadata": {}
  },
  {
   "cell_type": "code",
   "execution_count": 48,
   "source": [
    "# Suponha que um gatilho de negociação de um ativo foi disparado, ou seja, uma \n",
    "# condição assumiu a condição de verdadeira (True).\n",
    "deal_trigger = True"
   ],
   "outputs": [],
   "metadata": {}
  },
  {
   "cell_type": "code",
   "execution_count": 49,
   "source": [
    "deal_trigger"
   ],
   "outputs": [
    {
     "output_type": "execute_result",
     "data": {
      "text/plain": [
       "True"
      ]
     },
     "metadata": {},
     "execution_count": 49
    }
   ],
   "metadata": {}
  },
  {
   "cell_type": "code",
   "execution_count": 50,
   "source": [
    "type(deal_trigger)"
   ],
   "outputs": [
    {
     "output_type": "execute_result",
     "data": {
      "text/plain": [
       "bool"
      ]
     },
     "metadata": {},
     "execution_count": 50
    }
   ],
   "metadata": {}
  },
  {
   "cell_type": "markdown",
   "source": [
    "### Operações Lógicas Booleanas"
   ],
   "metadata": {}
  },
  {
   "cell_type": "markdown",
   "source": [
    "Veja algumas operações lógicas que podem resultar em valores booleanos:"
   ],
   "metadata": {}
  },
  {
   "cell_type": "code",
   "execution_count": 51,
   "source": [
    "1 == 2\n",
    "# E aqui você já repara que == é um operador comparativo que testa igualdade."
   ],
   "outputs": [
    {
     "output_type": "execute_result",
     "data": {
      "text/plain": [
       "False"
      ]
     },
     "metadata": {},
     "execution_count": 51
    }
   ],
   "metadata": {}
  },
  {
   "cell_type": "code",
   "execution_count": 52,
   "source": [
    "1 == 1"
   ],
   "outputs": [
    {
     "output_type": "execute_result",
     "data": {
      "text/plain": [
       "True"
      ]
     },
     "metadata": {},
     "execution_count": 52
    }
   ],
   "metadata": {}
  },
  {
   "cell_type": "code",
   "execution_count": 53,
   "source": [
    "1 != 2\n",
    "# E aqui você já repara que != é um operador comparativo que testa desigualdade."
   ],
   "outputs": [
    {
     "output_type": "execute_result",
     "data": {
      "text/plain": [
       "True"
      ]
     },
     "metadata": {},
     "execution_count": 53
    }
   ],
   "metadata": {}
  },
  {
   "cell_type": "code",
   "execution_count": 54,
   "source": [
    "1 > 1\n",
    "# E aqui você já repara que > é um operador comparativo que testa a maioridade.\n",
    "# Consequentemente, < testa a menoridade."
   ],
   "outputs": [
    {
     "output_type": "execute_result",
     "data": {
      "text/plain": [
       "False"
      ]
     },
     "metadata": {},
     "execution_count": 54
    }
   ],
   "metadata": {}
  },
  {
   "cell_type": "code",
   "execution_count": 55,
   "source": [
    "1 >= 1\n",
    "# E aqui você já repara que >= é um operador comparativo que testa a igualdade ou \n",
    "# a maioridade.\n",
    "# Consequentemente, <= testa a igualdade ou a menoridade."
   ],
   "outputs": [
    {
     "output_type": "execute_result",
     "data": {
      "text/plain": [
       "True"
      ]
     },
     "metadata": {},
     "execution_count": 55
    }
   ],
   "metadata": {}
  },
  {
   "cell_type": "markdown",
   "source": [
    "### Conversão de Tipos"
   ],
   "metadata": {}
  },
  {
   "cell_type": "markdown",
   "source": [
    "De booleano para inteiro:"
   ],
   "metadata": {}
  },
  {
   "cell_type": "code",
   "execution_count": 56,
   "source": [
    "# Verdadeiro (True) e Falso (False) estão ligados conceitualmente ao código binário, sendo\n",
    "# 1 relacionado a Verdadeiro (True) e 0 relacionado a Falso (False).\n",
    "int(deal_trigger)"
   ],
   "outputs": [
    {
     "output_type": "execute_result",
     "data": {
      "text/plain": [
       "1"
      ]
     },
     "metadata": {},
     "execution_count": 56
    }
   ],
   "metadata": {}
  },
  {
   "cell_type": "code",
   "execution_count": 57,
   "source": [
    "int(False)"
   ],
   "outputs": [
    {
     "output_type": "execute_result",
     "data": {
      "text/plain": [
       "0"
      ]
     },
     "metadata": {},
     "execution_count": 57
    }
   ],
   "metadata": {}
  },
  {
   "cell_type": "code",
   "execution_count": 58,
   "source": [
    "#Funciona também usando decimal (float):\n",
    "float(True)"
   ],
   "outputs": [
    {
     "output_type": "execute_result",
     "data": {
      "text/plain": [
       "1.0"
      ]
     },
     "metadata": {},
     "execution_count": 58
    }
   ],
   "metadata": {}
  },
  {
   "cell_type": "markdown",
   "source": [
    "De inteiro para booleano:"
   ],
   "metadata": {}
  },
  {
   "cell_type": "code",
   "execution_count": 59,
   "source": [
    "bool(1)"
   ],
   "outputs": [
    {
     "output_type": "execute_result",
     "data": {
      "text/plain": [
       "True"
      ]
     },
     "metadata": {},
     "execution_count": 59
    }
   ],
   "metadata": {}
  },
  {
   "cell_type": "code",
   "execution_count": 60,
   "source": [
    "bool(1.)"
   ],
   "outputs": [
    {
     "output_type": "execute_result",
     "data": {
      "text/plain": [
       "True"
      ]
     },
     "metadata": {},
     "execution_count": 60
    }
   ],
   "metadata": {}
  },
  {
   "cell_type": "markdown",
   "source": [
    "Outras conversões de tipos:"
   ],
   "metadata": {}
  },
  {
   "cell_type": "code",
   "execution_count": 61,
   "source": [
    "# Para string:\n",
    "str(True)"
   ],
   "outputs": [
    {
     "output_type": "execute_result",
     "data": {
      "text/plain": [
       "'True'"
      ]
     },
     "metadata": {},
     "execution_count": 61
    }
   ],
   "metadata": {}
  },
  {
   "cell_type": "code",
   "execution_count": 62,
   "source": [
    "# De string:\n",
    "bool('True')"
   ],
   "outputs": [
    {
     "output_type": "execute_result",
     "data": {
      "text/plain": [
       "True"
      ]
     },
     "metadata": {},
     "execution_count": 62
    }
   ],
   "metadata": {}
  },
  {
   "cell_type": "markdown",
   "source": [
    "## Tipo Cadeia de Caracteres (string)"
   ],
   "metadata": {}
  },
  {
   "cell_type": "markdown",
   "source": [
    "### Geral"
   ],
   "metadata": {
    "colab_type": "text",
    "id": "AKTZWqrc50pQ"
   }
  },
  {
   "cell_type": "code",
   "execution_count": 63,
   "source": [
    "# Uma cadeia de caracteres (string) é reconhecida pelo Python pelo uso de aspas.\n",
    "ticker = \"ITUB3.SA\""
   ],
   "outputs": [],
   "metadata": {
    "colab": {
     "base_uri": "https://localhost:8080/",
     "height": 34
    },
    "colab_type": "code",
    "id": "P2nUk7jKCoFY",
    "outputId": "8528f373-9eec-4636-e172-97122aca8643"
   }
  },
  {
   "cell_type": "code",
   "execution_count": 64,
   "source": [
    "ticker"
   ],
   "outputs": [
    {
     "output_type": "execute_result",
     "data": {
      "text/plain": [
       "'ITUB3.SA'"
      ]
     },
     "metadata": {},
     "execution_count": 64
    }
   ],
   "metadata": {}
  },
  {
   "cell_type": "code",
   "execution_count": 65,
   "source": [
    "type(ticker)"
   ],
   "outputs": [
    {
     "output_type": "execute_result",
     "data": {
      "text/plain": [
       "str"
      ]
     },
     "metadata": {},
     "execution_count": 65
    }
   ],
   "metadata": {}
  },
  {
   "cell_type": "code",
   "execution_count": 66,
   "source": [
    "# As aspas podem ser simples ou duplas, tanto faz.\n",
    "ticker = 'ITUB3.SA'"
   ],
   "outputs": [],
   "metadata": {}
  },
  {
   "cell_type": "code",
   "execution_count": 67,
   "source": [
    "ticker"
   ],
   "outputs": [
    {
     "output_type": "execute_result",
     "data": {
      "text/plain": [
       "'ITUB3.SA'"
      ]
     },
     "metadata": {},
     "execution_count": 67
    }
   ],
   "metadata": {}
  },
  {
   "cell_type": "code",
   "execution_count": 68,
   "source": [
    "type(ticker)"
   ],
   "outputs": [
    {
     "output_type": "execute_result",
     "data": {
      "text/plain": [
       "str"
      ]
     },
     "metadata": {},
     "execution_count": 68
    }
   ],
   "metadata": {}
  },
  {
   "cell_type": "markdown",
   "source": [
    "### Operações com Cadeias de Caracteres"
   ],
   "metadata": {
    "colab_type": "text",
    "id": "1_5Jlv9v54_E"
   }
  },
  {
   "cell_type": "markdown",
   "source": [
    "Para repetir uma cadeia de caracteres, basta usar a multiplicação:"
   ],
   "metadata": {}
  },
  {
   "cell_type": "code",
   "execution_count": 69,
   "source": [
    "ticker * 2"
   ],
   "outputs": [
    {
     "output_type": "execute_result",
     "data": {
      "text/plain": [
       "'ITUB3.SAITUB3.SA'"
      ]
     },
     "metadata": {},
     "execution_count": 69
    }
   ],
   "metadata": {
    "colab": {
     "base_uri": "https://localhost:8080/",
     "height": 34
    },
    "colab_type": "code",
    "id": "CQAZtA_YC7Ui",
    "outputId": "a7e5d171-753f-48a1-ba5e-449157d1d2fa"
   }
  },
  {
   "cell_type": "markdown",
   "source": [
    "Para concatenar cadeias de caracteres (string), utiliza-se o sinal de adição:"
   ],
   "metadata": {}
  },
  {
   "cell_type": "code",
   "execution_count": 70,
   "source": [
    "'Ticker: ' + ticker"
   ],
   "outputs": [
    {
     "output_type": "execute_result",
     "data": {
      "text/plain": [
       "'Ticker: ITUB3.SA'"
      ]
     },
     "metadata": {},
     "execution_count": 70
    }
   ],
   "metadata": {
    "colab": {
     "base_uri": "https://localhost:8080/",
     "height": 34
    },
    "colab_type": "code",
    "id": "sVeoNRjkC__i",
    "outputId": "0fd0df76-bc84-4215-9ff5-682815d54f87"
   }
  },
  {
   "cell_type": "markdown",
   "source": [
    "Para verificar se um trecho de caracteres se encontra em uma cadeia de caracteres, usa-se a palavra seservada in, retornando valores lógicos (True, False)"
   ],
   "metadata": {}
  },
  {
   "cell_type": "code",
   "execution_count": 71,
   "source": [
    "'.' in ticker"
   ],
   "outputs": [
    {
     "output_type": "execute_result",
     "data": {
      "text/plain": [
       "True"
      ]
     },
     "metadata": {},
     "execution_count": 71
    }
   ],
   "metadata": {
    "colab": {
     "base_uri": "https://localhost:8080/",
     "height": 34
    },
    "colab_type": "code",
    "id": "dRTI5L8zDOGx",
    "outputId": "5dd30802-a6d5-4b25-a41d-33a2e7450540"
   }
  },
  {
   "cell_type": "code",
   "execution_count": 72,
   "source": [
    "',' in ticker"
   ],
   "outputs": [
    {
     "output_type": "execute_result",
     "data": {
      "text/plain": [
       "False"
      ]
     },
     "metadata": {},
     "execution_count": 72
    }
   ],
   "metadata": {}
  },
  {
   "cell_type": "markdown",
   "source": [
    "Para capturar um dos caracteres da cadeia, você pode referenciar um índice de posição. Cada caracter possui um índice de posição, considerando sempre que **o Python começa a contar do 0**. Então I está no índice 0, T está no índice 1, U está no índice 2, e assim por diante."
   ],
   "metadata": {}
  },
  {
   "cell_type": "code",
   "execution_count": 73,
   "source": [
    "#Assim, para o índice 4 encontramos o caracter '3':\n",
    "ticker[4]"
   ],
   "outputs": [
    {
     "output_type": "execute_result",
     "data": {
      "text/plain": [
       "'3'"
      ]
     },
     "metadata": {},
     "execution_count": 73
    }
   ],
   "metadata": {
    "colab": {
     "base_uri": "https://localhost:8080/",
     "height": 34
    },
    "colab_type": "code",
    "id": "zTNfa8nsDXVn",
    "outputId": "8c0fa1dd-3079-4ec8-8359-f972333a481f"
   }
  },
  {
   "cell_type": "markdown",
   "source": [
    "Para capturar um trecho / fatia (slice) da cadeia de caracteres (string), usa-se um intervalo de índices através do uso de :, em que o índice que vem antes é o início do intervalo e o índice que vem após é o fim do intervalo. **Em Python, quando se trata de intervalos, o início do intervalo é fechado (inclusivo) e o fim do intervalo é aberto (exclusivo).**"
   ],
   "metadata": {}
  },
  {
   "cell_type": "code",
   "execution_count": 74,
   "source": [
    "# Se você quiser apenas os 5 dígitos que caracterizam a ação (os 5 primeiros, de \n",
    "# índices que vão de 0 a 4), você deve passar como intervalo do 0 até 5 (pois o \n",
    "# índice 5 é extremo aberto e não é considerado)\n",
    "ticker[0:5]"
   ],
   "outputs": [
    {
     "output_type": "execute_result",
     "data": {
      "text/plain": [
       "'ITUB3'"
      ]
     },
     "metadata": {},
     "execution_count": 74
    }
   ],
   "metadata": {
    "colab": {
     "base_uri": "https://localhost:8080/",
     "height": 34
    },
    "colab_type": "code",
    "id": "Q1cfmXnKDyS1",
    "outputId": "871ca558-0845-4bbf-8b12-19bc5f54a922"
   }
  },
  {
   "cell_type": "code",
   "execution_count": 75,
   "source": [
    "# Se um início ou um fim não for especificado, o primeiro ou último índice, \n",
    "# respectivamente, serão considerados.\n",
    "ticker[:5]"
   ],
   "outputs": [
    {
     "output_type": "execute_result",
     "data": {
      "text/plain": [
       "'ITUB3'"
      ]
     },
     "metadata": {},
     "execution_count": 75
    }
   ],
   "metadata": {}
  },
  {
   "cell_type": "code",
   "execution_count": 76,
   "source": [
    "ticker[5:]"
   ],
   "outputs": [
    {
     "output_type": "execute_result",
     "data": {
      "text/plain": [
       "'.SA'"
      ]
     },
     "metadata": {},
     "execution_count": 76
    }
   ],
   "metadata": {}
  },
  {
   "cell_type": "markdown",
   "source": [
    "**Métodos:** Métodos são funções que valem dentro do domínio de um tipo de objeto específico. Eles são sempre acionados seguindo o seguinte padrão: <nome_do_objeto>.<nome_do_método>(), com os parênteses indicando que é uma função (uma ação)."
   ],
   "metadata": {
    "colab_type": "text",
    "id": "r3ejtkaS58D6"
   }
  },
  {
   "cell_type": "markdown",
   "source": [
    "As cadeias de caracteres (string) possuem alguns métodos corriqueiros. Vejamos alguns deles."
   ],
   "metadata": {}
  },
  {
   "cell_type": "markdown",
   "source": [
    "Transcrição em letras maiúsculas (uppercase):"
   ],
   "metadata": {
    "colab_type": "text",
    "id": "4mkrc3-TDqfj"
   }
  },
  {
   "cell_type": "code",
   "execution_count": 77,
   "source": [
    "investor = 'Ray Dalio'"
   ],
   "outputs": [],
   "metadata": {}
  },
  {
   "cell_type": "code",
   "execution_count": 78,
   "source": [
    "investor.upper()"
   ],
   "outputs": [
    {
     "output_type": "execute_result",
     "data": {
      "text/plain": [
       "'RAY DALIO'"
      ]
     },
     "metadata": {},
     "execution_count": 78
    }
   ],
   "metadata": {
    "colab": {
     "base_uri": "https://localhost:8080/",
     "height": 34
    },
    "colab_type": "code",
    "id": "92utAeSEDVXG",
    "outputId": "56142399-323b-4e4e-f23f-745e4b0bae4d"
   }
  },
  {
   "cell_type": "code",
   "execution_count": 79,
   "source": [
    "# Você pode passar a cadeia de caracteres (string) diretamente também:\n",
    "'Ray Dalio'.upper()"
   ],
   "outputs": [
    {
     "output_type": "execute_result",
     "data": {
      "text/plain": [
       "'RAY DALIO'"
      ]
     },
     "metadata": {},
     "execution_count": 79
    }
   ],
   "metadata": {}
  },
  {
   "cell_type": "markdown",
   "source": [
    "Transcrição em letras minusculas (lowercase):"
   ],
   "metadata": {
    "colab_type": "text",
    "id": "kTwXSqfCD39j"
   }
  },
  {
   "cell_type": "code",
   "execution_count": 80,
   "source": [
    "investor.lower()"
   ],
   "outputs": [
    {
     "output_type": "execute_result",
     "data": {
      "text/plain": [
       "'ray dalio'"
      ]
     },
     "metadata": {},
     "execution_count": 80
    }
   ],
   "metadata": {
    "colab": {
     "base_uri": "https://localhost:8080/",
     "height": 34
    },
    "colab_type": "code",
    "id": "92utAeSEDVXG",
    "outputId": "56142399-323b-4e4e-f23f-745e4b0bae4d"
   }
  },
  {
   "cell_type": "markdown",
   "source": [
    "Contar elementos específicos dentro da string:"
   ],
   "metadata": {
    "colab_type": "text",
    "id": "ysvF4y7VECcg"
   }
  },
  {
   "cell_type": "code",
   "execution_count": 81,
   "source": [
    "investor"
   ],
   "outputs": [
    {
     "output_type": "execute_result",
     "data": {
      "text/plain": [
       "'Ray Dalio'"
      ]
     },
     "metadata": {},
     "execution_count": 81
    }
   ],
   "metadata": {}
  },
  {
   "cell_type": "code",
   "execution_count": 82,
   "source": [
    "# Não há 'r' (r minúsculo) na cadeia de caracteres.\n",
    "investor.count('r')"
   ],
   "outputs": [
    {
     "output_type": "execute_result",
     "data": {
      "text/plain": [
       "0"
      ]
     },
     "metadata": {},
     "execution_count": 82
    }
   ],
   "metadata": {
    "colab": {
     "base_uri": "https://localhost:8080/",
     "height": 34
    },
    "colab_type": "code",
    "id": "mX1LUFusEQp-",
    "outputId": "d374d804-613a-4c41-a76d-096b6a6fdaf0"
   }
  },
  {
   "cell_type": "code",
   "execution_count": 83,
   "source": [
    "# Mas há 'R' (r maiúsculo). Ou seja, o método count é 'case-sensitive' (considera \n",
    "# caracteres maiúsculos e minúsculos como sendo distintos).\n",
    "investor.count('R')"
   ],
   "outputs": [
    {
     "output_type": "execute_result",
     "data": {
      "text/plain": [
       "1"
      ]
     },
     "metadata": {},
     "execution_count": 83
    }
   ],
   "metadata": {}
  },
  {
   "cell_type": "code",
   "execution_count": 84,
   "source": [
    "# Repare que não é possível deixar este método count() sem argumentos. Talvez você \n",
    "# esperasse que ao deixar o método count() sem argumento, ele retornasse a contagem\n",
    "# total de caracteres, mas isso não ocorreu (a chamada retornou ERRO, como você pode \n",
    "# observar abaixo. Isso ocorre porque este método é específico para procurar e contar \n",
    "# um trecho de caracteres específico que você passar como argumento.\n",
    "investor.count()"
   ],
   "outputs": [
    {
     "output_type": "error",
     "ename": "TypeError",
     "evalue": "count() takes at least 1 argument (0 given)",
     "traceback": [
      "\u001b[1;31m---------------------------------------------------------------------------\u001b[0m",
      "\u001b[1;31mTypeError\u001b[0m                                 Traceback (most recent call last)",
      "\u001b[1;32m<ipython-input-84-8a8489e1d9b9>\u001b[0m in \u001b[0;36m<module>\u001b[1;34m\u001b[0m\n\u001b[0;32m      4\u001b[0m \u001b[1;31m# observar abaixo. Isso ocorre porque este método é específico para procurar e contar\u001b[0m\u001b[1;33m\u001b[0m\u001b[1;33m\u001b[0m\u001b[1;33m\u001b[0m\u001b[0m\n\u001b[0;32m      5\u001b[0m \u001b[1;31m# um trecho de caracteres específico que você passar como argumento.\u001b[0m\u001b[1;33m\u001b[0m\u001b[1;33m\u001b[0m\u001b[1;33m\u001b[0m\u001b[0m\n\u001b[1;32m----> 6\u001b[1;33m \u001b[0minvestor\u001b[0m\u001b[1;33m.\u001b[0m\u001b[0mcount\u001b[0m\u001b[1;33m(\u001b[0m\u001b[1;33m)\u001b[0m\u001b[1;33m\u001b[0m\u001b[1;33m\u001b[0m\u001b[0m\n\u001b[0m",
      "\u001b[1;31mTypeError\u001b[0m: count() takes at least 1 argument (0 given)"
     ]
    }
   ],
   "metadata": {
    "colab": {
     "base_uri": "https://localhost:8080/",
     "height": 186
    },
    "colab_type": "code",
    "id": "JVUXzby-GXzY",
    "outputId": "ecdfbd25-02b1-462e-852c-7e4deca9e1aa"
   }
  },
  {
   "cell_type": "code",
   "execution_count": null,
   "source": [
    "# Para conseguir calcular a quenatidade total de caracteres de uma cadeia, usa-se a função\n",
    "# len() do Python-Base, que retorna o comprimento (length) da cadeia.\n",
    "len(investor)"
   ],
   "outputs": [],
   "metadata": {
    "colab": {
     "base_uri": "https://localhost:8080/",
     "height": 34
    },
    "colab_type": "code",
    "id": "-Rk-Gv2MF21Y",
    "outputId": "99f9af19-97d2-4193-b20d-5a2716861d38"
   }
  },
  {
   "cell_type": "markdown",
   "source": [
    "Substituir caracteres na cadeia:"
   ],
   "metadata": {
    "colab_type": "text",
    "id": "PIUvg5hgEyAL"
   }
  },
  {
   "cell_type": "code",
   "execution_count": null,
   "source": [
    "investor"
   ],
   "outputs": [],
   "metadata": {}
  },
  {
   "cell_type": "code",
   "execution_count": 1,
   "source": [
    "investor.replace('a', '$')"
   ],
   "outputs": [
    {
     "output_type": "error",
     "ename": "NameError",
     "evalue": "name 'investor' is not defined",
     "traceback": [
      "\u001b[0;31m---------------------------------------------------------------------------\u001b[0m",
      "\u001b[0;31mNameError\u001b[0m                                 Traceback (most recent call last)",
      "\u001b[0;32m<ipython-input-1-802bb4196c4a>\u001b[0m in \u001b[0;36m<module>\u001b[0;34m\u001b[0m\n\u001b[0;32m----> 1\u001b[0;31m \u001b[0minvestor\u001b[0m\u001b[0;34m.\u001b[0m\u001b[0mreplace\u001b[0m\u001b[0;34m(\u001b[0m\u001b[0;34m'a'\u001b[0m\u001b[0;34m,\u001b[0m \u001b[0;34m'$'\u001b[0m\u001b[0;34m)\u001b[0m\u001b[0;34m\u001b[0m\u001b[0;34m\u001b[0m\u001b[0m\n\u001b[0m",
      "\u001b[0;31mNameError\u001b[0m: name 'investor' is not defined"
     ]
    }
   ],
   "metadata": {
    "colab": {
     "base_uri": "https://localhost:8080/",
     "height": 34
    },
    "colab_type": "code",
    "id": "ufvUpBQQE7tK",
    "outputId": "79a454ac-aa43-4707-d58d-8bc971efe63c"
   }
  },
  {
   "cell_type": "markdown",
   "source": [
    "Retirar espaços do final de cadeia de caracteres:"
   ],
   "metadata": {
    "colab_type": "text",
    "id": "gIl1JRpgFMD9"
   }
  },
  {
   "cell_type": "code",
   "execution_count": null,
   "source": [
    "investor = 'Ray Dalio   '"
   ],
   "outputs": [],
   "metadata": {
    "colab": {
     "base_uri": "https://localhost:8080/",
     "height": 34
    },
    "colab_type": "code",
    "id": "nKxsXimIFQtB",
    "outputId": "5648e80d-066e-4fac-f626-a8478c87ddaf"
   }
  },
  {
   "cell_type": "code",
   "execution_count": null,
   "source": [
    "investor"
   ],
   "outputs": [],
   "metadata": {}
  },
  {
   "cell_type": "code",
   "execution_count": null,
   "source": [
    "investor.strip()"
   ],
   "outputs": [],
   "metadata": {}
  },
  {
   "cell_type": "markdown",
   "source": [
    "### Conversão de Tipos"
   ],
   "metadata": {
    "colab_type": "text",
    "id": "IYwvPAVn5nOe"
   }
  },
  {
   "cell_type": "markdown",
   "source": [
    "Numéricos (numeric) para cadeia de caracteres (strings):"
   ],
   "metadata": {
    "colab_type": "text",
    "id": "CFZh11ao9xnE"
   }
  },
  {
   "cell_type": "code",
   "execution_count": null,
   "source": [
    "# Por vezes, você pode se interessar em guardar valores numéricos como texto, para \n",
    "# evitar que eles sejam manipulados erroneamente por outro programa que usa outro \n",
    "# padrão de interpretação de números.\n",
    "price = 5.76"
   ],
   "outputs": [],
   "metadata": {
    "colab": {},
    "colab_type": "code",
    "id": "OxHm3s4I-Yei"
   }
  },
  {
   "cell_type": "code",
   "execution_count": null,
   "source": [
    "price"
   ],
   "outputs": [],
   "metadata": {}
  },
  {
   "cell_type": "code",
   "execution_count": null,
   "source": [
    "type(price)"
   ],
   "outputs": [],
   "metadata": {}
  },
  {
   "cell_type": "code",
   "execution_count": null,
   "source": [
    "price = str(price)"
   ],
   "outputs": [],
   "metadata": {
    "colab": {},
    "colab_type": "code",
    "id": "vQDnyzhP9xK0"
   }
  },
  {
   "cell_type": "code",
   "execution_count": null,
   "source": [
    "price"
   ],
   "outputs": [],
   "metadata": {}
  },
  {
   "cell_type": "code",
   "execution_count": null,
   "source": [
    "type(price)"
   ],
   "outputs": [],
   "metadata": {}
  },
  {
   "cell_type": "markdown",
   "source": [
    "Cadeia de caracteres (strings) para numéricos (numeric):"
   ],
   "metadata": {}
  },
  {
   "cell_type": "code",
   "execution_count": null,
   "source": [
    "price"
   ],
   "outputs": [],
   "metadata": {}
  },
  {
   "cell_type": "code",
   "execution_count": null,
   "source": [
    "price = float(price)"
   ],
   "outputs": [],
   "metadata": {}
  },
  {
   "cell_type": "code",
   "execution_count": null,
   "source": [
    "price"
   ],
   "outputs": [],
   "metadata": {}
  },
  {
   "cell_type": "code",
   "execution_count": null,
   "source": [
    "type(price)"
   ],
   "outputs": [],
   "metadata": {}
  },
  {
   "cell_type": "markdown",
   "source": [
    "## Listas (list)"
   ],
   "metadata": {
    "colab_type": "text",
    "id": "cnP0txDX5-jS"
   }
  },
  {
   "cell_type": "markdown",
   "source": [
    "### Geral"
   ],
   "metadata": {
    "colab_type": "text",
    "id": "GUYNUkag6G0h"
   }
  },
  {
   "cell_type": "code",
   "execution_count": null,
   "source": [
    "# Eis uma lista apenas de elementos do tipo numérico. No caso, uma série de preços\n",
    "# de um ativo específico.\n",
    "price_series = [23.40, 23.40, 24.05, 24.15, 24.33]"
   ],
   "outputs": [],
   "metadata": {
    "colab": {},
    "colab_type": "code",
    "id": "ZNGpE2KMHEIu"
   }
  },
  {
   "cell_type": "code",
   "execution_count": null,
   "source": [
    "price_series"
   ],
   "outputs": [],
   "metadata": {}
  },
  {
   "cell_type": "code",
   "execution_count": null,
   "source": [
    "type(price_series)"
   ],
   "outputs": [],
   "metadata": {}
  },
  {
   "cell_type": "code",
   "execution_count": null,
   "source": [
    "# Eis uma lista com elementos de diversos tipos. No caso, informações básicas de um ativo\n",
    "# para uma tomada de decisão.\n",
    "asset_basicInfo = ['ITUB3.SA', 23.40, True]"
   ],
   "outputs": [],
   "metadata": {}
  },
  {
   "cell_type": "code",
   "execution_count": null,
   "source": [
    "asset_basicInfo"
   ],
   "outputs": [],
   "metadata": {}
  },
  {
   "cell_type": "code",
   "execution_count": null,
   "source": [
    "type(asset_basicInfo)"
   ],
   "outputs": [],
   "metadata": {}
  },
  {
   "cell_type": "markdown",
   "source": [
    "Uma lista vazia pode ser criada com colchetes sem nada dentro:"
   ],
   "metadata": {}
  },
  {
   "cell_type": "code",
   "execution_count": null,
   "source": [
    "l = []"
   ],
   "outputs": [],
   "metadata": {}
  },
  {
   "cell_type": "code",
   "execution_count": null,
   "source": [
    "l"
   ],
   "outputs": [],
   "metadata": {}
  },
  {
   "cell_type": "markdown",
   "source": [
    "### Selecionando Elementos em Uma Lista"
   ],
   "metadata": {
    "colab_type": "text",
    "id": "n7H1onqr6J24"
   }
  },
  {
   "cell_type": "markdown",
   "source": [
    "**Subconjunto (*Subset*):**"
   ],
   "metadata": {
    "colab_type": "text",
    "id": "b9ggT1IdKVRg"
   }
  },
  {
   "cell_type": "markdown",
   "source": [
    "Selecionar o item no índice 1:"
   ],
   "metadata": {
    "colab_type": "text",
    "id": "0rPBM1dGKfRE"
   }
  },
  {
   "cell_type": "code",
   "execution_count": null,
   "source": [
    "asset_basicInfo"
   ],
   "outputs": [],
   "metadata": {}
  },
  {
   "cell_type": "code",
   "execution_count": null,
   "source": [
    "asset_basicInfo[1]\n",
    "# Lembre-se que o Python começa a contar índices do 0. Portanto o índice 1 se refere\n",
    "# ao segundo elemento da lista."
   ],
   "outputs": [],
   "metadata": {
    "colab": {
     "base_uri": "https://localhost:8080/",
     "height": 34
    },
    "colab_type": "code",
    "id": "X24PdvcqKi61",
    "outputId": "50ab765a-1fa0-4cca-e07e-0aab4db343b0"
   }
  },
  {
   "cell_type": "markdown",
   "source": [
    "Selecionar o segundo último elemento:"
   ],
   "metadata": {
    "colab_type": "text",
    "id": "7vgO0XikKjdw"
   }
  },
  {
   "cell_type": "code",
   "execution_count": null,
   "source": [
    "asset_basicInfo[-2]\n",
    "# Quando se referencia a partir do último, o Python conta a partir do -1."
   ],
   "outputs": [],
   "metadata": {
    "colab": {
     "base_uri": "https://localhost:8080/",
     "height": 34
    },
    "colab_type": "code",
    "id": "COBDSRSdKmGe",
    "outputId": "fb46d2eb-e486-4677-a1c3-c3275d543f23"
   }
  },
  {
   "cell_type": "markdown",
   "source": [
    "**Fatia (*Slice*):**"
   ],
   "metadata": {
    "colab_type": "text",
    "id": "Frr_Zz8aK2AH"
   }
  },
  {
   "cell_type": "markdown",
   "source": [
    "Selecionar os itens dos índices 1 e 2:"
   ],
   "metadata": {
    "colab_type": "text",
    "id": "l_7UNBthK5UP"
   }
  },
  {
   "cell_type": "code",
   "execution_count": null,
   "source": [
    "asset_basicInfo[1:3]\n",
    "# Lembre-se que no Python o início do intervalo é fechado (inclusivo) e o fim é \n",
    "# aberto (exclusivo)."
   ],
   "outputs": [],
   "metadata": {
    "colab": {
     "base_uri": "https://localhost:8080/",
     "height": 34
    },
    "colab_type": "code",
    "id": "1uPBK2XQLBan",
    "outputId": "c0e2c566-40c9-4ab2-a7cb-270c58edfa84"
   }
  },
  {
   "cell_type": "markdown",
   "source": [
    "Selecionar elementos depois do de índice 0:"
   ],
   "metadata": {
    "colab_type": "text",
    "id": "ZmexMyTXLCIl"
   }
  },
  {
   "cell_type": "code",
   "execution_count": null,
   "source": [
    "asset_basicInfo[1:]"
   ],
   "outputs": [],
   "metadata": {
    "colab": {
     "base_uri": "https://localhost:8080/",
     "height": 34
    },
    "colab_type": "code",
    "id": "SQQvgxaILC3z",
    "outputId": "45a7f90e-96a5-4184-f5d8-d1a0f66ca70b"
   }
  },
  {
   "cell_type": "markdown",
   "source": [
    "Selecionar os elementos anteriores ao de índice 2:"
   ],
   "metadata": {
    "colab_type": "text",
    "id": "E3W99TPVLKLI"
   }
  },
  {
   "cell_type": "code",
   "execution_count": null,
   "source": [
    "asset_basicInfo[:2]"
   ],
   "outputs": [],
   "metadata": {
    "colab": {
     "base_uri": "https://localhost:8080/",
     "height": 34
    },
    "colab_type": "code",
    "id": "K72wYL1eLUAl",
    "outputId": "cadab5fa-a15c-4e88-f096-bb32e9f4a093"
   }
  },
  {
   "cell_type": "markdown",
   "source": [
    "Copiar minha lista (trazer todos os elementos):"
   ],
   "metadata": {
    "colab_type": "text",
    "id": "fGrE7PAeLUlv"
   }
  },
  {
   "cell_type": "code",
   "execution_count": null,
   "source": [
    "asset_basicInfo[:]"
   ],
   "outputs": [],
   "metadata": {
    "colab": {
     "base_uri": "https://localhost:8080/",
     "height": 34
    },
    "colab_type": "code",
    "id": "bR-73iirLX7F",
    "outputId": "048f9df3-c780-479f-a451-37df2aefe968"
   }
  },
  {
   "cell_type": "markdown",
   "source": [
    "### Operações com Listas"
   ],
   "metadata": {
    "colab_type": "text",
    "id": "_tji--1F6NYi"
   }
  },
  {
   "cell_type": "markdown",
   "source": [
    "Concatenar duas listas:"
   ],
   "metadata": {}
  },
  {
   "cell_type": "code",
   "execution_count": null,
   "source": [
    "# Usa-se o sinal de soma (+):\n",
    "asset_basicInfo + price_series"
   ],
   "outputs": [],
   "metadata": {
    "colab": {
     "base_uri": "https://localhost:8080/",
     "height": 34
    },
    "colab_type": "code",
    "id": "sxJdB4c1MRb0",
    "outputId": "5e6b0967-1c70-4ec6-9e6e-17eb48d8038c"
   }
  },
  {
   "cell_type": "markdown",
   "source": [
    "Concatenar sucessicas cópias da mesma lista:"
   ],
   "metadata": {}
  },
  {
   "cell_type": "code",
   "execution_count": null,
   "source": [
    "# Usa-se o sinal de multiplicação (*):\n",
    "asset_basicInfo * 2"
   ],
   "outputs": [],
   "metadata": {
    "colab": {
     "base_uri": "https://localhost:8080/",
     "height": 34
    },
    "colab_type": "code",
    "id": "pdmkhmP2MVjw",
    "outputId": "3e11a76a-b709-4095-800c-5b31d09c5bd1"
   }
  },
  {
   "cell_type": "markdown",
   "source": [
    "Atualizando um elemento de uma lista com um novo valor:"
   ],
   "metadata": {}
  },
  {
   "cell_type": "code",
   "execution_count": null,
   "source": [
    "asset_basicInfo"
   ],
   "outputs": [],
   "metadata": {}
  },
  {
   "cell_type": "code",
   "execution_count": null,
   "source": [
    "asset_basicInfo[1] = 23.43"
   ],
   "outputs": [],
   "metadata": {}
  },
  {
   "cell_type": "code",
   "execution_count": null,
   "source": [
    "asset_basicInfo"
   ],
   "outputs": [],
   "metadata": {}
  },
  {
   "cell_type": "markdown",
   "source": [
    "### Métodos para Listas"
   ],
   "metadata": {
    "colab_type": "text",
    "id": "9IZhC4Jk6Rxh"
   }
  },
  {
   "cell_type": "markdown",
   "source": [
    "Coletar o índice relativo à primeira aparição de um elemento em uma lista:"
   ],
   "metadata": {
    "colab_type": "text",
    "id": "P0WbbrdlM4Ik"
   }
  },
  {
   "cell_type": "code",
   "execution_count": null,
   "source": [
    "asset_basicInfo"
   ],
   "outputs": [],
   "metadata": {}
  },
  {
   "cell_type": "code",
   "execution_count": null,
   "source": [
    "asset_basicInfo.index(True)"
   ],
   "outputs": [],
   "metadata": {
    "colab": {
     "base_uri": "https://localhost:8080/",
     "height": 34
    },
    "colab_type": "code",
    "id": "usd5xCfdNpK7",
    "outputId": "612d2613-d1f2-43c2-959d-da6b25d08022"
   }
  },
  {
   "cell_type": "markdown",
   "source": [
    "Contar o número de ocorrências de um elemento:"
   ],
   "metadata": {
    "colab_type": "text",
    "id": "CW1Sot-UM-eU"
   }
  },
  {
   "cell_type": "code",
   "execution_count": null,
   "source": [
    "asset_basicInfo.count('ITUB3.SA')"
   ],
   "outputs": [],
   "metadata": {
    "colab": {
     "base_uri": "https://localhost:8080/",
     "height": 34
    },
    "colab_type": "code",
    "id": "nnXq2X6DNp5E",
    "outputId": "56f04eba-aa9b-4e41-c898-3c0e3a078f6b"
   }
  },
  {
   "cell_type": "markdown",
   "source": [
    "Apendar (adicionar na sequencia) um elemento a uma lista:"
   ],
   "metadata": {
    "colab_type": "text",
    "id": "z1-_LUe7NBNy"
   }
  },
  {
   "cell_type": "code",
   "execution_count": null,
   "source": [
    "# Repare que este método atualiza a variável da lista mesmo sem termos explicitamente\n",
    "# atribuido o resultado à própria variável.\n",
    "asset_basicInfo.append(1.7)"
   ],
   "outputs": [],
   "metadata": {
    "colab": {},
    "colab_type": "code",
    "id": "V4InZbq9NqoO"
   }
  },
  {
   "cell_type": "code",
   "execution_count": null,
   "source": [
    "asset_basicInfo"
   ],
   "outputs": [],
   "metadata": {}
  },
  {
   "cell_type": "code",
   "execution_count": null,
   "source": [
    "# Mas se você quiser apendar mais que um elemento e tentar passar uma lista, o método \n",
    "# append() vai adicionar a lista que você passou no argumento inteira como elemento \n",
    "# (estamos começando a falar de listas de listas, isto é, listas com listas dentro).\n",
    "asset_basicInfo.append([3.2, 2.5])"
   ],
   "outputs": [],
   "metadata": {}
  },
  {
   "cell_type": "code",
   "execution_count": null,
   "source": [
    "asset_basicInfo"
   ],
   "outputs": [],
   "metadata": {}
  },
  {
   "cell_type": "code",
   "execution_count": null,
   "source": [
    "# Se quiser adicionar mais que um elemento por vez, tem que usar o método extend e passar\n",
    "# uma lista como argumento. O método extend itera sobre a lista do argumento e adiciona \n",
    "# individualmente cada elemento à lista original.\n",
    "asset_basicInfo.extend([3.2, 2.5])"
   ],
   "outputs": [],
   "metadata": {}
  },
  {
   "cell_type": "code",
   "execution_count": null,
   "source": [
    "asset_basicInfo"
   ],
   "outputs": [],
   "metadata": {}
  },
  {
   "cell_type": "markdown",
   "source": [
    "Remover um elemento:"
   ],
   "metadata": {
    "colab_type": "text",
    "id": "_8UaE_VjNHr-"
   }
  },
  {
   "cell_type": "code",
   "execution_count": null,
   "source": [
    "# Repare que este método atualiza a variável da lista mesmo sem termos explicitamente\n",
    "# atribuido o resultado à própria variável.\n",
    "asset_basicInfo.remove(1.7)"
   ],
   "outputs": [],
   "metadata": {
    "colab": {
     "base_uri": "https://localhost:8080/",
     "height": 34
    },
    "colab_type": "code",
    "id": "9uTxG8aPNrkm",
    "outputId": "10afe5da-1071-4054-861e-61d49587815e"
   }
  },
  {
   "cell_type": "code",
   "execution_count": null,
   "source": [
    "asset_basicInfo"
   ],
   "outputs": [],
   "metadata": {}
  },
  {
   "cell_type": "code",
   "execution_count": null,
   "source": [
    "#Outra maneira, usando o método pop() e passando o índice:\n",
    "asset_basicInfo.pop(-3)"
   ],
   "outputs": [],
   "metadata": {}
  },
  {
   "cell_type": "code",
   "execution_count": null,
   "source": [
    "asset_basicInfo"
   ],
   "outputs": [],
   "metadata": {}
  },
  {
   "cell_type": "code",
   "execution_count": null,
   "source": [
    "# A função del (de delete) serve para esse propósito também se você passar uma fatia \n",
    "# (slice) dentro da lista.\n",
    "del(asset_basicInfo[3:5])\n",
    "# Repare que esta função atualiza a variável da lista mesmo sem termos explicitamente\n",
    "# atribuido o resultado à própria variável."
   ],
   "outputs": [],
   "metadata": {
    "colab": {},
    "colab_type": "code",
    "id": "w5wQ7fQKNsHf"
   }
  },
  {
   "cell_type": "code",
   "execution_count": null,
   "source": [
    "asset_basicInfo"
   ],
   "outputs": [],
   "metadata": {}
  },
  {
   "cell_type": "markdown",
   "source": [
    "Inverter a ordem da lista:"
   ],
   "metadata": {
    "colab_type": "text",
    "id": "XhrCnzPONTbA"
   }
  },
  {
   "cell_type": "code",
   "execution_count": null,
   "source": [
    "# A lista possui uma ordem definida. Para inverter esta ordem:\n",
    "asset_basicInfo.reverse()\n",
    "# Repare que este método atualiza a variável da lista mesmo sem termos explicitamente\n",
    "# atribuido o resultado à própria variável."
   ],
   "outputs": [],
   "metadata": {
    "colab": {},
    "colab_type": "code",
    "id": "kBlkT5CtNs0z"
   }
  },
  {
   "cell_type": "code",
   "execution_count": null,
   "source": [
    "asset_basicInfo"
   ],
   "outputs": [],
   "metadata": {}
  },
  {
   "cell_type": "markdown",
   "source": [
    "Inserir um elemento especificando uma posição (em índice):"
   ],
   "metadata": {
    "colab_type": "text",
    "id": "i0vNALmaNeN7"
   }
  },
  {
   "cell_type": "code",
   "execution_count": null,
   "source": [
    "asset_basicInfo.insert(1, \"!\")"
   ],
   "outputs": [],
   "metadata": {
    "colab": {},
    "colab_type": "code",
    "id": "U5Isac8CNv55"
   }
  },
  {
   "cell_type": "code",
   "execution_count": null,
   "source": [
    "asset_basicInfo"
   ],
   "outputs": [],
   "metadata": {}
  },
  {
   "cell_type": "markdown",
   "source": [
    "Ordenar a lista:"
   ],
   "metadata": {
    "colab_type": "text",
    "id": "dqUfn-8TNl7Q"
   }
  },
  {
   "cell_type": "code",
   "execution_count": null,
   "source": [
    "price_series"
   ],
   "outputs": [],
   "metadata": {}
  },
  {
   "cell_type": "code",
   "execution_count": null,
   "source": [
    "price_series.sort(reverse=True)"
   ],
   "outputs": [],
   "metadata": {}
  },
  {
   "cell_type": "code",
   "execution_count": null,
   "source": [
    "price_series"
   ],
   "outputs": [],
   "metadata": {}
  },
  {
   "cell_type": "markdown",
   "source": [
    "## Tuplas (tuple)"
   ],
   "metadata": {
    "colab_type": "text",
    "id": "KpIKRpBBja0P"
   }
  },
  {
   "cell_type": "markdown",
   "source": [
    "### Geral"
   ],
   "metadata": {
    "colab_type": "text",
    "id": "cG16Pm8rjg6r"
   }
  },
  {
   "cell_type": "markdown",
   "source": [
    "Uma tupla, assim como uma lista, é uma sequencia de objetos. A diferença principal é que as tuplas não podem ser modificadas assim como são as listas.\n",
    "\n",
    "Iconograficamente, tuplas e listas são diferentes uma vez que a tuplas usam parênteses e as\n",
    "listas usam colchetes. \n",
    "\n",
    "Exemplos:"
   ],
   "metadata": {
    "colab_type": "text",
    "id": "44tgxFNdjkmQ"
   }
  },
  {
   "cell_type": "code",
   "execution_count": null,
   "source": [
    "# Pode-se criar uma tupla passando os elementos dentro de parênteses, ou simplesmente \n",
    "# colocando os elementos separados por vírgula.\n",
    "asset_basicInfo = ('ITUB3.SA', 23.40, True)\n",
    "asset_basicInfo_ = 'ITUB3.SA', 23.40, True"
   ],
   "outputs": [],
   "metadata": {
    "colab": {},
    "colab_type": "code",
    "id": "7K61I77FjrHr"
   }
  },
  {
   "cell_type": "code",
   "execution_count": null,
   "source": [
    "asset_basicInfo"
   ],
   "outputs": [],
   "metadata": {
    "colab": {
     "base_uri": "https://localhost:8080/",
     "height": 34
    },
    "colab_type": "code",
    "id": "3zYdMxYDj6dn",
    "outputId": "84e37d4f-0cd0-4fe5-b27c-959174c025ba"
   }
  },
  {
   "cell_type": "code",
   "execution_count": null,
   "source": [
    "type(asset_basicInfo)"
   ],
   "outputs": [],
   "metadata": {}
  },
  {
   "cell_type": "code",
   "execution_count": null,
   "source": [
    "asset_basicInfo_"
   ],
   "outputs": [],
   "metadata": {}
  },
  {
   "cell_type": "code",
   "execution_count": null,
   "source": [
    "type(asset_basicInfo_)"
   ],
   "outputs": [],
   "metadata": {}
  },
  {
   "cell_type": "markdown",
   "source": [
    "Uma tupla vazia é escrita com dois parênteses sem nada dentro:"
   ],
   "metadata": {
    "colab_type": "text",
    "id": "R76ZX-eYl-Eu"
   }
  },
  {
   "cell_type": "code",
   "execution_count": null,
   "source": [
    "tup = ()"
   ],
   "outputs": [],
   "metadata": {
    "colab": {},
    "colab_type": "code",
    "id": "dlb05Pggl_eM"
   }
  },
  {
   "cell_type": "code",
   "execution_count": null,
   "source": [
    "tup"
   ],
   "outputs": [],
   "metadata": {}
  },
  {
   "cell_type": "markdown",
   "source": [
    "Para escrever uma tupla contendo um único valor você tem que incluir uma vírgula, mesmo que haja apenas um valor:"
   ],
   "metadata": {
    "colab_type": "text",
    "id": "Q8f-4jk2mMgK"
   }
  },
  {
   "cell_type": "code",
   "execution_count": null,
   "source": [
    "tup = (50,)"
   ],
   "outputs": [],
   "metadata": {
    "colab": {},
    "colab_type": "code",
    "id": "oUMMh3tkmXbl"
   }
  },
  {
   "cell_type": "code",
   "execution_count": null,
   "source": [
    "tup"
   ],
   "outputs": [],
   "metadata": {
    "colab": {},
    "colab_type": "code",
    "id": "oUMMh3tkmXbl"
   }
  },
  {
   "cell_type": "markdown",
   "source": [
    "Como os índices de lista, os índices de tupla começam em 0 e podem ser fatiados, concatenados e assim por diante."
   ],
   "metadata": {
    "colab_type": "text",
    "id": "UYYDHVbAmprL"
   }
  },
  {
   "cell_type": "markdown",
   "source": [
    "### Selecionando Elementos na Tupla"
   ],
   "metadata": {
    "colab_type": "text",
    "id": "ztJjkxbxlRNP"
   }
  },
  {
   "cell_type": "markdown",
   "source": [
    "Igual às listas (use os colchetes para fatiar junto com o índice ou índices para obter o valor disponível naquele(s) índice(s)).\n",
    "\n",
    "Só para exemplificar:"
   ],
   "metadata": {
    "colab_type": "text",
    "id": "vcon9EIDm3at"
   }
  },
  {
   "cell_type": "code",
   "execution_count": null,
   "source": [
    "asset_basicInfo"
   ],
   "outputs": [],
   "metadata": {
    "colab": {
     "base_uri": "https://localhost:8080/",
     "height": 52
    },
    "colab_type": "code",
    "id": "tpXvEqnGllSu",
    "outputId": "04738f1d-a2ab-439f-867d-121be1354ccc"
   }
  },
  {
   "cell_type": "code",
   "execution_count": null,
   "source": [
    "asset_basicInfo[1]"
   ],
   "outputs": [],
   "metadata": {}
  },
  {
   "cell_type": "code",
   "execution_count": null,
   "source": [
    "asset_basicInfo[1:3]"
   ],
   "outputs": [],
   "metadata": {}
  },
  {
   "cell_type": "markdown",
   "source": [
    "### Operações com Tuplas"
   ],
   "metadata": {
    "colab_type": "text",
    "id": "yp_vwg40lTB2"
   }
  },
  {
   "cell_type": "markdown",
   "source": [
    "As tuplas são imutáveis, o que significa que você não pode atualizar ou alterar os valores dos elementos da tupla:"
   ],
   "metadata": {
    "colab_type": "text",
    "id": "k8ilqH55oNh-"
   }
  },
  {
   "cell_type": "code",
   "execution_count": null,
   "source": [
    "asset_basicInfo[1] = 23.43\n",
    "# Ao tentar atualizar um elemento, o Python apresenta erro dizendo que você não \n",
    "# pode modificar uma tupla."
   ],
   "outputs": [],
   "metadata": {}
  },
  {
   "cell_type": "code",
   "execution_count": null,
   "source": [
    "asset_basicInfo.append(1)\n",
    "# Obviamente o método append() não funcionaria também. Mais uma mensagem de erro."
   ],
   "outputs": [],
   "metadata": {}
  },
  {
   "cell_type": "markdown",
   "source": [
    "Mas você pode pegar partes de tuplas existentes para criar novas tuplas:"
   ],
   "metadata": {}
  },
  {
   "cell_type": "code",
   "execution_count": null,
   "source": [
    "asset_basicInfo + asset_basicInfo"
   ],
   "outputs": [],
   "metadata": {}
  },
  {
   "cell_type": "markdown",
   "source": [
    "### Métodos para Tuplas"
   ],
   "metadata": {
    "colab_type": "text",
    "id": "MK9PLsK8lYde"
   }
  },
  {
   "cell_type": "markdown",
   "source": [
    "Exatamente os mesmos que os de listas, com exceção daqueles que modificariam a tupla (o que não pode acontecer por definição)."
   ],
   "metadata": {
    "colab_type": "text",
    "id": "CT4kqQyNoICM"
   }
  },
  {
   "cell_type": "markdown",
   "source": [
    "## Dicionários (dictionary)"
   ],
   "metadata": {
    "colab_type": "text",
    "id": "mZpaGY2rod39"
   }
  },
  {
   "cell_type": "markdown",
   "source": [
    "### Geral"
   ],
   "metadata": {
    "colab_type": "text",
    "id": "bFwngu8QphMt"
   }
  },
  {
   "cell_type": "markdown",
   "source": [
    "É um conjunto não ordenado de pares chave-valor (key-value)."
   ],
   "metadata": {
    "colab_type": "text",
    "id": "YFyaki-hozLX"
   }
  },
  {
   "cell_type": "code",
   "execution_count": null,
   "source": [
    "# Seja um dicionário que traga os preços (valores) para cada ativo (chaves). Funciona como\n",
    "# um dicionário físico. Você procura pelo verbete (chave) e encontra sua correspondência\n",
    "# (valor).\n",
    "assets_price = {'BBAS3.SA': 34.59, 'BMGB4.SA': 5.01}\n",
    "# As chaves são usadas para indicar um dicionário, o ':' indica a relação entre chave e \n",
    "# valor, e os pares são separados entre si por ','."
   ],
   "outputs": [],
   "metadata": {
    "colab": {},
    "colab_type": "code",
    "id": "ehGjKMlspCOk"
   }
  },
  {
   "cell_type": "code",
   "execution_count": null,
   "source": [
    "assets_price"
   ],
   "outputs": [],
   "metadata": {}
  },
  {
   "cell_type": "code",
   "execution_count": null,
   "source": [
    "# Um outro exemplo: um dicionário que traga os nomes dos ativos (valores) para cada código \n",
    "# de ativo.\n",
    "assets_name = {'BBAS3.SA': 'BANCO DO BRASIL ON NM', 'BMGB4.SA': 'BANCO BMG PN N1'}"
   ],
   "outputs": [],
   "metadata": {}
  },
  {
   "cell_type": "code",
   "execution_count": null,
   "source": [
    "assets_name"
   ],
   "outputs": [],
   "metadata": {}
  },
  {
   "cell_type": "code",
   "execution_count": null,
   "source": [
    "type(assets_name)"
   ],
   "outputs": [],
   "metadata": {}
  },
  {
   "cell_type": "markdown",
   "source": [
    "### Accessando Valores"
   ],
   "metadata": {
    "colab_type": "text",
    "id": "AfHipOWepnAu"
   }
  },
  {
   "cell_type": "markdown",
   "source": [
    "Usa-se os colchetes, e passa-se a chave:"
   ],
   "metadata": {}
  },
  {
   "cell_type": "code",
   "execution_count": null,
   "source": [
    "assets_price['BBAS3.SA']"
   ],
   "outputs": [],
   "metadata": {
    "colab": {
     "base_uri": "https://localhost:8080/",
     "height": 34
    },
    "colab_type": "code",
    "id": "a99XtN-_pyCb",
    "outputId": "853bd674-96c3-4af0-e77a-e4d095865fb4"
   }
  },
  {
   "cell_type": "code",
   "execution_count": null,
   "source": [
    "assets_name['BBAS3.SA']"
   ],
   "outputs": [],
   "metadata": {}
  },
  {
   "cell_type": "markdown",
   "source": [
    "### Atualizando Valores"
   ],
   "metadata": {
    "colab_type": "text",
    "id": "IeC4Wi6Zp7_c"
   }
  },
  {
   "cell_type": "markdown",
   "source": [
    "Basta fazer uma atribuição de um novo valor para a referência da chave de um dicionário. O novo valor sobrescreve o anterior."
   ],
   "metadata": {}
  },
  {
   "cell_type": "code",
   "execution_count": null,
   "source": [
    "assets_price['BBAS3.SA']"
   ],
   "outputs": [],
   "metadata": {}
  },
  {
   "cell_type": "code",
   "execution_count": null,
   "source": [
    "assets_price['BBAS3.SA'] = 35.20"
   ],
   "outputs": [],
   "metadata": {
    "colab": {},
    "colab_type": "code",
    "id": "ma_b3JPpqApD"
   }
  },
  {
   "cell_type": "code",
   "execution_count": null,
   "source": [
    "assets_price['BBAS3.SA']"
   ],
   "outputs": [],
   "metadata": {
    "colab": {
     "base_uri": "https://localhost:8080/",
     "height": 34
    },
    "colab_type": "code",
    "id": "h3sEwMEmqZKz",
    "outputId": "2e7e44a4-f722-4958-c7d2-2a2dd2255e01"
   }
  },
  {
   "cell_type": "code",
   "execution_count": null,
   "source": [
    "assets_price"
   ],
   "outputs": [],
   "metadata": {}
  },
  {
   "cell_type": "markdown",
   "source": [
    "## <lists, tuples, dictionaries> in <lists, tuples, dictionaries>"
   ],
   "metadata": {}
  },
  {
   "cell_type": "markdown",
   "source": [
    "### Geral"
   ],
   "metadata": {}
  },
  {
   "cell_type": "markdown",
   "source": [
    "Listas, tuplas e dicionários podem compor uns aos outros.\n",
    "\n",
    "Apenas alguns exemplos:"
   ],
   "metadata": {}
  },
  {
   "cell_type": "code",
   "execution_count": null,
   "source": [
    "# Seja um dicionário que você possa pesquisar por código de ativo e encontrar um novo\n",
    "# dicionário com as principais informações sobre este ativo.\n",
    "assets_toCompare = {'ITUB3.SA': {'name': 'ITAUUNIBANCO ON N1', 'priceToEquity': 13.14},\n",
    "                    'BBAS3.SA': {'name': 'BANCO DO BRASIL ON NM', 'priceToEquity': 5.51}}"
   ],
   "outputs": [],
   "metadata": {}
  },
  {
   "cell_type": "code",
   "execution_count": null,
   "source": [
    "assets_toCompare"
   ],
   "outputs": [],
   "metadata": {}
  },
  {
   "cell_type": "code",
   "execution_count": null,
   "source": [
    "# Outro exemplo. Seja uma tupla que contenha o código do ativo e uma \n",
    "# lista com os 5 preços mais recente.\n",
    "asset_priceSeries = ('ITUB3.SA', [23.40, 23.40, 24.05, 24.15, 24.33])"
   ],
   "outputs": [],
   "metadata": {}
  },
  {
   "cell_type": "code",
   "execution_count": null,
   "source": [
    "asset_priceSeries"
   ],
   "outputs": [],
   "metadata": {}
  },
  {
   "cell_type": "markdown",
   "source": [
    "### Selecionar (*subset*) Elementos Compostos:"
   ],
   "metadata": {
    "colab_type": "text",
    "id": "FGUtX-GULweQ"
   }
  },
  {
   "cell_type": "code",
   "execution_count": null,
   "source": [
    "# Se eu quiser acessar o priceToEquity do ITUB3.SA, primeiro referencio o dicionário mais\n",
    "# externo, depois o mais interno, sequencialmente:\n",
    "assets_toCompare['ITUB3.SA']['priceToEquity']"
   ],
   "outputs": [],
   "metadata": {
    "colab": {
     "base_uri": "https://localhost:8080/",
     "height": 34
    },
    "colab_type": "code",
    "id": "3IH4mT0VL_sb",
    "outputId": "1fb62ebb-0ad6-40bc-90ed-8e3029cb80e1"
   }
  },
  {
   "cell_type": "code",
   "execution_count": null,
   "source": [
    "# Se eu quiser acessar o terceiro preço de ITUB3.SA, devo primeiro referenciar o índice \n",
    "# da locaização na tupla (objeto mais externo), para depois indicar o índice da localização\n",
    "# na lista (objeto mais interno).\n",
    "asset_priceSeries[1][2]"
   ],
   "outputs": [],
   "metadata": {
    "colab": {
     "base_uri": "https://localhost:8080/",
     "height": 34
    },
    "colab_type": "code",
    "id": "hqmSxRsTMAV3",
    "outputId": "d3cbd3e0-5293-4338-a21b-5c8ca33cfd9f"
   }
  },
  {
   "cell_type": "markdown",
   "source": [
    "### Alterar Elementos Compostos:"
   ],
   "metadata": {}
  },
  {
   "cell_type": "code",
   "execution_count": 85,
   "source": [
    "# Caso eu queira atualizar o priceToEquity de ITUB3.SA, basta atribuir um novo valor para\n",
    "# a sua referência:\n",
    "assets_toCompare['ITUB3.SA']['priceToEquity'] = 14.16"
   ],
   "outputs": [
    {
     "output_type": "error",
     "ename": "NameError",
     "evalue": "name 'assets_toCompare' is not defined",
     "traceback": [
      "\u001b[1;31m---------------------------------------------------------------------------\u001b[0m",
      "\u001b[1;31mNameError\u001b[0m                                 Traceback (most recent call last)",
      "\u001b[1;32m<ipython-input-85-f4cabef7e1c6>\u001b[0m in \u001b[0;36m<module>\u001b[1;34m\u001b[0m\n\u001b[0;32m      1\u001b[0m \u001b[1;31m# Caso eu queira atualizar o priceToEquity de ITUB3.SA, basta atribuir um novo valor para\u001b[0m\u001b[1;33m\u001b[0m\u001b[1;33m\u001b[0m\u001b[1;33m\u001b[0m\u001b[0m\n\u001b[0;32m      2\u001b[0m \u001b[1;31m# a sua referência:\u001b[0m\u001b[1;33m\u001b[0m\u001b[1;33m\u001b[0m\u001b[1;33m\u001b[0m\u001b[0m\n\u001b[1;32m----> 3\u001b[1;33m \u001b[0massets_toCompare\u001b[0m\u001b[1;33m[\u001b[0m\u001b[1;34m'ITUB3.SA'\u001b[0m\u001b[1;33m]\u001b[0m\u001b[1;33m[\u001b[0m\u001b[1;34m'priceToEquity'\u001b[0m\u001b[1;33m]\u001b[0m \u001b[1;33m=\u001b[0m \u001b[1;36m14.16\u001b[0m\u001b[1;33m\u001b[0m\u001b[1;33m\u001b[0m\u001b[0m\n\u001b[0m",
      "\u001b[1;31mNameError\u001b[0m: name 'assets_toCompare' is not defined"
     ]
    }
   ],
   "metadata": {}
  },
  {
   "cell_type": "code",
   "execution_count": null,
   "source": [
    "assets_toCompare['ITUB3.SA']['priceToEquity']"
   ],
   "outputs": [],
   "metadata": {}
  },
  {
   "cell_type": "code",
   "execution_count": null,
   "source": [
    "assets_toCompare"
   ],
   "outputs": [],
   "metadata": {}
  },
  {
   "cell_type": "markdown",
   "source": [
    "# Exercício para Treinar"
   ],
   "metadata": {}
  },
  {
   "cell_type": "markdown",
   "source": [
    "Construir um dicionário de consulta de informações de ativos financeiros.\n",
    "\n",
    "Entre em algum site de informações financeiras de empresas, escolha 2 empresas, e monte um dicionário para consultar os dados que você escolher (deve constar, para cada empresa, no minimo, um valor numérico, um valor de cadeia de caracteres e um valor tupla. Construa este dicionário por código, copiando os valores do site.\n",
    "    \n",
    "Em seguida, faça alguns exemplos de consulta, demonstrando o funcionamento.\n",
    "    \n",
    "Por último, faça uma alteração de dado dentro da tupla, e demonstre que a mudança se efetivou."
   ],
   "metadata": {}
  },
  {
   "cell_type": "code",
   "execution_count": null,
   "source": [],
   "outputs": [],
   "metadata": {}
  }
 ],
 "metadata": {
  "colab": {
   "collapsed_sections": [],
   "name": "PythonBasics",
   "provenance": [],
   "version": "0.3.2"
  },
  "kernelspec": {
   "name": "python3",
   "display_name": "Python 3.8.10 64-bit"
  },
  "language_info": {
   "codemirror_mode": {
    "name": "ipython",
    "version": 3
   },
   "file_extension": ".py",
   "mimetype": "text/x-python",
   "name": "python",
   "nbconvert_exporter": "python",
   "pygments_lexer": "ipython3",
   "version": "3.8.10"
  },
  "interpreter": {
   "hash": "e7370f93d1d0cde622a1f8e1c04877d8463912d04d973331ad4851f04de6915a"
  }
 },
 "nbformat": 4,
 "nbformat_minor": 4
}
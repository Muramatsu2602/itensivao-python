{
 "cells": [
  {
   "cell_type": "markdown",
   "metadata": {},
   "source": [
    "# 4.1 Object Comparisons: “is” vs “==”\n",
    "\n",
    "## == operator\n",
    "The == operator compares by checking for equality : if these cats were\n",
    "Python objects and we compared them with the == operator, we’d get\n",
    "“both cats are equal” as an answer.\n",
    "\n",
    "## "
   ]
  }
 ],
 "metadata": {
  "language_info": {
   "name": "python"
  },
  "orig_nbformat": 4
 },
 "nbformat": 4,
 "nbformat_minor": 2
}

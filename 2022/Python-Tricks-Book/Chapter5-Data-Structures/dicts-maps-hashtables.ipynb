{
 "cells": [
  {
   "cell_type": "markdown",
   "metadata": {},
   "source": [
    "# 5.1 Dictionaries, Maps, and Hashtables"
   ]
  },
  {
   "cell_type": "code",
   "execution_count": 1,
   "metadata": {},
   "outputs": [
    {
     "data": {
      "text/plain": [
       "3719"
      ]
     },
     "execution_count": 1,
     "metadata": {},
     "output_type": "execute_result"
    }
   ],
   "source": [
    "phonebook = {\n",
    "'bob': 7387,\n",
    "'alice': 3719,\n",
    "'jack': 7052,\n",
    "}\n",
    "\n",
    "squares = {x: x * x for x in range(6)}\n",
    "\n",
    "phonebook['alice']"
   ]
  },
  {
   "cell_type": "markdown",
   "metadata": {},
   "source": [
    "Python’s dictionaries are indexed by keys that can be of any hashable type 2 : **A hashable object has a hash value which never changes during its lifetime, and it can be compared to other objects**.\n",
    "\n",
    "In addition, hashable objects which compare as equal\n",
    "must have the same hash value."
   ]
  },
  {
   "cell_type": "code",
   "execution_count": 6,
   "metadata": {},
   "outputs": [
    {
     "data": {
      "text/plain": [
       "odict_keys(['one', 'two', 'three'])"
      ]
     },
     "execution_count": 6,
     "metadata": {},
     "output_type": "execute_result"
    }
   ],
   "source": [
    "import collections\n",
    "\n",
    "\n",
    "# collections.OrderedDict – Remember the\n",
    "# Insertion Order of Keys\n",
    "\n",
    "d = collections.OrderedDict(one=1, two=2, three=3)\n",
    "\n",
    "d.keys()"
   ]
  },
  {
   "cell_type": "code",
   "execution_count": 9,
   "metadata": {},
   "outputs": [
    {
     "name": "stdout",
     "output_type": "stream",
     "text": [
      "['Rufus', 'Kathrin', 'Mr Sniffles']\n",
      "['Princess', 'Witch', 'Bilbo']\n"
     ]
    }
   ],
   "source": [
    "# collections.defaultdict – Return Default Values\n",
    "# for Missing Keys\n",
    "from collections import defaultdict\n",
    "dd = defaultdict(list)\n",
    "\n",
    "dd['dogs'].append('Rufus')\n",
    "dd['dogs'].append('Kathrin')\n",
    "dd['dogs'].append('Mr Sniffles')\n",
    "\n",
    "print(dd['dogs'])\n",
    "\n",
    "dd['cats'].append('Princess')\n",
    "dd['cats'].append('Witch')\n",
    "dd['cats'].append('Bilbo')\n",
    "\n",
    "print(dd['cats'])"
   ]
  },
  {
   "cell_type": "code",
   "execution_count": null,
   "metadata": {},
   "outputs": [],
   "source": [
    "# collections.ChainMap – Search Multiple\n",
    "# Dictionaries as a Single Mapping\n",
    "from collections import ChainMap\n",
    "\n",
    "dict1 = {'one': 1, 'two': 2}\n",
    "dict2 = {'three': 3, 'four': 4}\n",
    "chain = ChainMap(dict1, dict2)\n",
    "\n",
    "ChainMap({'one': 1, 'two': 2}, {'three': 3, 'four': 4})\n",
    "# ChainMap searches each collection in the chain\n",
    "# from left to right until it finds the key (or fails):\n",
    "chain['three']\n",
    "\n",
    "\n"
   ]
  }
 ],
 "metadata": {
  "interpreter": {
   "hash": "e7370f93d1d0cde622a1f8e1c04877d8463912d04d973331ad4851f04de6915a"
  },
  "kernelspec": {
   "display_name": "Python 3.8.10 64-bit",
   "language": "python",
   "name": "python3"
  },
  "language_info": {
   "codemirror_mode": {
    "name": "ipython",
    "version": 3
   },
   "file_extension": ".py",
   "mimetype": "text/x-python",
   "name": "python",
   "nbconvert_exporter": "python",
   "pygments_lexer": "ipython3",
   "version": "3.8.10"
  },
  "orig_nbformat": 4
 },
 "nbformat": 4,
 "nbformat_minor": 2
}

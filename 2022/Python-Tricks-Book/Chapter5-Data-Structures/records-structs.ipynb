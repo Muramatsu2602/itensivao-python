{
 "cells": [
  {
   "cell_type": "markdown",
   "metadata": {},
   "source": [
    "# 5.3 Records, Structs, and Data Transfer Objects\n",
    "\n",
    "Compared to arrays, record data structures provide a fixed number of\n",
    "fields, where each field can have a name and may also have a different\n",
    "type"
   ]
  },
  {
   "cell_type": "code",
   "execution_count": 3,
   "metadata": {},
   "outputs": [],
   "source": [
    "# Dicts are mutable !\n",
    "\n",
    "car1 = {\n",
    "'color': 'red',\n",
    "'mileage': 3812.4,\n",
    "'automatic': True,\n",
    "}\n",
    "\n",
    "car2 = {\n",
    "'color': 'blue',\n",
    "'mileage': 40231,\n",
    "'automatic': False,\n",
    "}\n",
    "\n",
    "# No protection against wrong field names,\n",
    "# or missing/extra fields:"
   ]
  }
 ],
 "metadata": {
  "interpreter": {
   "hash": "e7370f93d1d0cde622a1f8e1c04877d8463912d04d973331ad4851f04de6915a"
  },
  "kernelspec": {
   "display_name": "Python 3.8.10 64-bit",
   "language": "python",
   "name": "python3"
  },
  "language_info": {
   "codemirror_mode": {
    "name": "ipython",
    "version": 3
   },
   "file_extension": ".py",
   "mimetype": "text/x-python",
   "name": "python",
   "nbconvert_exporter": "python",
   "pygments_lexer": "ipython3",
   "version": "3.8.10"
  },
  "orig_nbformat": 4
 },
 "nbformat": 4,
 "nbformat_minor": 2
}

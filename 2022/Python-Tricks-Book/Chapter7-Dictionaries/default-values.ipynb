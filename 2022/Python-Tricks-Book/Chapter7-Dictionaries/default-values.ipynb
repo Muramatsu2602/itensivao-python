{
 "cells": [
  {
   "cell_type": "markdown",
   "metadata": {},
   "source": [
    "# Dictionary Default Values"
   ]
  },
  {
   "cell_type": "code",
   "execution_count": 7,
   "metadata": {},
   "outputs": [
    {
     "data": {
      "text/plain": [
       "'Hi there!'"
      ]
     },
     "execution_count": 7,
     "metadata": {},
     "output_type": "execute_result"
    }
   ],
   "source": [
    "name_for_userid = {\n",
    "    382: 'Alice',\n",
    "    950: 'Bob',\n",
    "    590: 'Dilbert',\n",
    "}\n",
    "\n",
    "\n",
    "def greeting(userid):\n",
    "    if userid in name_for_userid:\n",
    "        return 'Hi %s!' % name_for_userid[userid]\n",
    "    else:\n",
    "        return 'Hi there!'\\\n",
    "\n",
    "def greeting2(userid):\n",
    "    try:\n",
    "        return 'Hi %s!' % name_for_userid[userid]\n",
    "    except KeyError:\n",
    "        return 'Hi there'\n",
    "\n",
    "greeting(382)\n",
    "greeting(1231)"
   ]
  },
  {
   "cell_type": "markdown",
   "metadata": {},
   "source": [
    "## Key takeaways\n",
    "\n",
    "* Avoid explicit key in dict checks when testing for membership.\n",
    "* EAFP-style exception handling or using the built-in get()\n",
    "method is preferable.\n",
    "* In some cases, the collections.defaultdict class from the\n",
    "standard library can also be helpful"
   ]
  },
  {
   "cell_type": "markdown",
   "metadata": {},
   "source": [
    "---"
   ]
  }
 ],
 "metadata": {
  "interpreter": {
   "hash": "e7370f93d1d0cde622a1f8e1c04877d8463912d04d973331ad4851f04de6915a"
  },
  "kernelspec": {
   "display_name": "Python 3.8.10 64-bit",
   "language": "python",
   "name": "python3"
  },
  "language_info": {
   "codemirror_mode": {
    "name": "ipython",
    "version": 3
   },
   "file_extension": ".py",
   "mimetype": "text/x-python",
   "name": "python",
   "nbconvert_exporter": "python",
   "pygments_lexer": "ipython3",
   "version": "3.8.10"
  },
  "orig_nbformat": 4
 },
 "nbformat": 4,
 "nbformat_minor": 2
}

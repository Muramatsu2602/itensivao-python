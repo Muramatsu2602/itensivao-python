{
 "cells": [
  {
   "cell_type": "markdown",
   "metadata": {},
   "source": [
    "# 3.3 The power of decorators\n",
    "\n",
    "At their core, Python’s decorators allow you to extend and modify the\n",
    "behavior of a callable (functions, methods, and classes) without per-\n",
    "manently modifying the callable itself.\n",
    "Any sufficiently generic functionality you can tack on to an existing\n",
    "class or function’s behavior makes a great use case for decoration.\n",
    "This includes the following:\n",
    "\n",
    "* logging\n",
    "* enforcing access control and authentication\n",
    "* instrumentation and timing functions\n",
    "* rate-limiting\n",
    "* caching, and more\n",
    "\n",
    "---"
   ]
  },
  {
   "cell_type": "markdown",
   "metadata": {},
   "source": [
    "```I believe that the payoff for understanding how decorators work in Python can be enormous.```"
   ]
  },
  {
   "cell_type": "markdown",
   "metadata": {},
   "source": [
    "• Functions are objects —they can be assigned to variables and\n",
    "passed to and returned from other functions\n",
    "\n",
    "• Functions can be defined inside other functions —and a\n",
    "child function can capture the parent function’s local state (lex-\n",
    "ical closures)"
   ]
  },
  {
   "cell_type": "code",
   "execution_count": 2,
   "metadata": {},
   "outputs": [
    {
     "data": {
      "text/plain": [
       "'Hello!'"
      ]
     },
     "execution_count": 2,
     "metadata": {},
     "output_type": "execute_result"
    }
   ],
   "source": [
    "def null_decorator(func):\n",
    "    return func\n",
    "\n",
    "def greet():\n",
    "    return 'Hello!'\n",
    "\n",
    "greet = null_decorator(greet)\n",
    "\n",
    "greet()"
   ]
  },
  {
   "cell_type": "code",
   "execution_count": 3,
   "metadata": {},
   "outputs": [],
   "source": [
    "# Note that using the @ syntax decorates the function immediately at\n",
    "# definition time. This makes it difficult to access the undecorated orig-\n",
    "# inal without brittle hacks. Therefore you might choose to decorate\n",
    "# some functions manually in order to retain the ability to call the un-\n",
    "# decorated function as well.\n",
    "@null_decorator\n",
    "def greet():\n",
    "    return 'Hello!'"
   ]
  },
  {
   "cell_type": "code",
   "execution_count": null,
   "metadata": {},
   "outputs": [],
   "source": [
    "def uppercase(func):\n",
    "    def wrapper():\n",
    "        original_result = func()\n",
    "        modified_result = original_result.upper()\n",
    "        return modified_result\n",
    "    return wrapper"
   ]
  }
 ],
 "metadata": {
  "interpreter": {
   "hash": "e7370f93d1d0cde622a1f8e1c04877d8463912d04d973331ad4851f04de6915a"
  },
  "kernelspec": {
   "display_name": "Python 3.8.10 64-bit",
   "language": "python",
   "name": "python3"
  },
  "language_info": {
   "codemirror_mode": {
    "name": "ipython",
    "version": 3
   },
   "file_extension": ".py",
   "mimetype": "text/x-python",
   "name": "python",
   "nbconvert_exporter": "python",
   "pygments_lexer": "ipython3",
   "version": "3.8.10"
  },
  "orig_nbformat": 4
 },
 "nbformat": 4,
 "nbformat_minor": 2
}

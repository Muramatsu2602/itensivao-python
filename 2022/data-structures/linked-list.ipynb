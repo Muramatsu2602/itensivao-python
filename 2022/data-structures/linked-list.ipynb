{
 "cells": [
  {
   "cell_type": "markdown",
   "metadata": {},
   "source": [
    "#  Chapter 7 (Goodrich, Michael) - Linked Lists"
   ]
  },
  {
   "cell_type": "markdown",
   "metadata": {},
   "source": [
    "## 7.1 Singly Linked Lists\n",
    "\n",
    "is a collection of nodes that collectively\n",
    "form a linear sequence. Each node stores a reference to an object that is an element\n",
    "of the sequence, as well as a reference to the next node of the list"
   ]
  },
  {
   "cell_type": "code",
   "execution_count": null,
   "metadata": {},
   "outputs": [],
   "source": []
  }
 ],
 "metadata": {
  "language_info": {
   "name": "python"
  },
  "orig_nbformat": 4
 },
 "nbformat": 4,
 "nbformat_minor": 2
}

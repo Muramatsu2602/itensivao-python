{
 "cells": [
  {
   "cell_type": "markdown",
   "metadata": {},
   "source": [
    "# Chapter 5: Making Your Program Interactive"
   ]
  },
  {
   "cell_type": "code",
   "execution_count": 1,
   "metadata": {},
   "outputs": [
    {
     "name": "stdout",
     "output_type": "stream",
     "text": [
      "Hello There. \n",
      "My name is Pedro and I am 20 years old.\n"
     ]
    }
   ],
   "source": [
    "# Triple Quotes\n",
    "print('''Hello There. \n",
    "My name is Pedro and I am 20 years old.''')"
   ]
  },
  {
   "cell_type": "markdown",
   "metadata": {},
   "source": [
    "# Chapter 6: Making choices"
   ]
  },
  {
   "cell_type": "code",
   "execution_count": null,
   "metadata": {},
   "outputs": [],
   "source": [
    "try:\n",
    "    userInput1 = int(input(\"Please enter a number: \"))\n",
    "    userInput2 = int(input(\"Please enter another number: \"))\n",
    "    answer =userInput1/userInput2\n",
    "    print (\"The answer is \", answer)\n",
    "    myFile = open(\"missing.txt\", 'r')\n",
    "except ValueError:\n",
    "    print (\"Error: You did not enter a number\")\n",
    "except ZeroDivisionError:\n",
    "    print (\"Error: Cannot divide by zero\")\n",
    "except Exception as e:\n",
    "    print (\"Unknown error: \", e)"
   ]
  },
  {
   "cell_type": "markdown",
   "metadata": {},
   "source": [
    "# Chapter 8: Working with files"
   ]
  },
  {
   "cell_type": "code",
   "execution_count": 3,
   "metadata": {},
   "outputs": [
    {
     "name": "stdout",
     "output_type": "stream",
     "text": [
      "Hey There\n",
      "\n",
      "I am Joe\n"
     ]
    }
   ],
   "source": [
    "f = open (\"myfile.txt\", 'r')\n",
    "\n",
    "firstline = f.readline()\n",
    "secondline = f.readline()\n",
    "\n",
    "print (firstline)\n",
    "print (secondline)\n",
    "f.close()"
   ]
  },
  {
   "cell_type": "code",
   "execution_count": 4,
   "metadata": {},
   "outputs": [
    {
     "name": "stdout",
     "output_type": "stream",
     "text": [
      "Hey There\n",
      "I am Joe"
     ]
    }
   ],
   "source": [
    "f = open (\"myfile.txt\", 'r')\n",
    "\n",
    "for line in f:\n",
    "    print(line, end = '')\n",
    "f.close()"
   ]
  },
  {
   "cell_type": "code",
   "execution_count": null,
   "metadata": {},
   "outputs": [],
   "source": [
    "f = open ('myfile.txt', 'a')\n",
    "f.write('\\nThis sentence will be appended.')\n",
    "f.write('\\nPython is Fun!')\n",
    "f.close()"
   ]
  }
 ],
 "metadata": {
  "interpreter": {
   "hash": "e7370f93d1d0cde622a1f8e1c04877d8463912d04d973331ad4851f04de6915a"
  },
  "kernelspec": {
   "display_name": "Python 3.8.10 64-bit",
   "name": "python3"
  },
  "language_info": {
   "codemirror_mode": {
    "name": "ipython",
    "version": 3
   },
   "file_extension": ".py",
   "mimetype": "text/x-python",
   "name": "python",
   "nbconvert_exporter": "python",
   "pygments_lexer": "ipython3",
   "version": "3.8.10"
  },
  "orig_nbformat": 4
 },
 "nbformat": 4,
 "nbformat_minor": 2
}

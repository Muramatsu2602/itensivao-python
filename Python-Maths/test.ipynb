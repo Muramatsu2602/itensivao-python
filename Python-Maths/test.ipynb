# Algebra and Symbolic Math With Sympy
The mathematical problems and solutions
in our programs so far have all involved the
manipulation of numbers. But there’s another
way math is taught, learned, and practiced, and that’s
in terms of symbols and the operations between them.
Just think of all the xs and ys in a typical algebra prob-
lem. We refer to this type of math as symbolic math.
---
## Defining Symbols and Symbolic Operations
from sympy import Symbol
a = Symbol('x')
a + a + 1
p = x*(x + x)
p
p = (x + 2)*(x + 3)
p
## Working with Expressions
### Factorizing and Expanding Expressions
from sympy import Symbol
from sympy import factor

x = Symbol('x')
y = Symbol('y')

expr = x**2 - y**2
factor(expr)
## Pretty Printing
from sympy import Symbol
from sympy import factor
from sympy import init_printing

init_printing(order='rev-lex')

x = Symbol('x')
y = Symbol('y')

expr = x*x + 2*x*y + y*y

pprint(expr)
### Printing a Series
from sympy import Symbol, pprint, init_printing
def print_series(n):    
    # Initialize printing system with reverse order
    init_printing(order='rev-lex')

    x = Symbol('x')
    series = x
    for i in range(2, n+1):
        series = series + (x**i)/i
    pprint(series)

if __name__ == '__main__':
    n = input('Enter the number of terms you want in the series: ')
    print_series(int(n))
## Substituting in Values
Let’s see how we can use SymPy to plug values into an algebraic expression.
This will let us calculate the value of the expression for certain values of the
variables. Consider the mathematical expression x 2 + 2xy + y 2 , which can be
defined as follows:
from sympy import Symbol

x = Symbol('x')
y = Symbol('y')
expr = x*x + x*y + x*y + y*y

res = expr.subs({x:1, y:2})
print("the answer is: " + str(res))
### On Python Dictionaries
sampledict = {"key1":5, "key2":20}
sampledict['key1']
expr_subs = expr.subs({x:1-y})
from sympy import simplify
simplify(expr_subs)
### Calculating the Value of a SeriesLet’s revisit the series-printing program. In addition to printing the series,
we want our program to be able to find the value of the series for a par-
ticular value of x. That is, our program will now take two inputs from the
user—the number of terms in the series and the value of x for which the
value of the series will be calculated. Then, the program will output both
the series and the sum. The following program extends the series printing
program to include these enhancements:
from sympy import Symbol, pprint, init_printing
def print_series(n, x_value):
    # Initialize printing system with reverse order
    init_printing(order='rev-lex')

    x = Symbol('x')
    series = x
    for i in range(2, n+1):
        series = series + (x**i)/i  

    pprint(series)

    # Evaluate the series at x_value
    series_value = series.subs({x:x_value})
    print('Value of the series at {0}: {1}'.format(x_value, series_value))

if __name__ == '__main__':
    n = input('Enter the number of terms you want in the series: ')
    x_value = input('Enter the value of x at which you want to evaluate the series: ')
    print_series(int(n), float(x_value))

